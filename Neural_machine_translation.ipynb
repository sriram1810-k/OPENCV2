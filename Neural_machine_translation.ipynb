{
  "nbformat": 4,
  "nbformat_minor": 0,
  "metadata": {
    "colab": {
      "name": "Neural machine translation (w/a attention).ipynb",
      "provenance": [],
      "collapsed_sections": [],
      "authorship_tag": "ABX9TyPrSaCLS+md1/tNORF+dmqm"
    },
    "kernelspec": {
      "name": "python3",
      "display_name": "Python 3"
    },
    "accelerator": "GPU"
  },
  "cells": [
    {
      "cell_type": "markdown",
      "metadata": {
        "id": "fg209hMXMJSS",
        "colab_type": "text"
      },
      "source": [
        "## A simple neural translation model without attention mechanism\n"
      ]
    },
    {
      "cell_type": "code",
      "metadata": {
        "id": "YqrCA44MNr-E",
        "colab_type": "code",
        "outputId": "dbea6e33-c23c-4125-c7b0-22b492e74ec4",
        "colab": {
          "base_uri": "https://localhost:8080/",
          "height": 217
        }
      },
      "source": [
        "# getting the data\n",
        "\n",
        "!wget --header=\"Host: www.manythings.org\" --header=\"User-Agent: Mozilla/5.0 (Windows NT 10.0; Win64; x64) AppleWebKit/537.36 (KHTML, like Gecko) Chrome/81.0.4044.138 Safari/537.36\" --header=\"Accept: text/html,application/xhtml+xml,application/xml;q=0.9,image/webp,image/apng,*/*;q=0.8,application/signed-exchange;v=b3;q=0.9\" --header=\"Accept-Language: en-GB,en-US;q=0.9,en;q=0.8\" \"http://www.manythings.org/anki/deu-eng.zip\" -c -O 'deu-eng.zip'"
      ],
      "execution_count": 0,
      "outputs": [
        {
          "output_type": "stream",
          "text": [
            "--2020-05-13 15:35:08--  http://www.manythings.org/anki/deu-eng.zip\n",
            "Resolving www.manythings.org (www.manythings.org)... 104.24.108.196, 104.24.109.196, 2606:4700:3033::6818:6dc4, ...\n",
            "Connecting to www.manythings.org (www.manythings.org)|104.24.108.196|:80... connected.\n",
            "HTTP request sent, awaiting response... 200 OK\n",
            "Length: 7876575 (7.5M) [application/zip]\n",
            "Saving to: ‘deu-eng.zip’\n",
            "\n",
            "\rdeu-eng.zip           0%[                    ]       0  --.-KB/s               \rdeu-eng.zip           0%[                    ]  47.83K   198KB/s               \rdeu-eng.zip           2%[                    ] 220.08K   438KB/s               \rdeu-eng.zip          11%[=>                  ] 900.17K  1.18MB/s               \rdeu-eng.zip          46%[========>           ]   3.51M  3.51MB/s               \rdeu-eng.zip          86%[================>   ]   6.49M  5.23MB/s               \rdeu-eng.zip         100%[===================>]   7.51M  6.00MB/s    in 1.3s    \n",
            "\n",
            "2020-05-13 15:35:10 (6.00 MB/s) - ‘deu-eng.zip’ saved [7876575/7876575]\n",
            "\n"
          ],
          "name": "stdout"
        }
      ]
    },
    {
      "cell_type": "code",
      "metadata": {
        "id": "_ZUk4J-BN6ap",
        "colab_type": "code",
        "outputId": "e7cfa8c0-f955-4feb-f54e-235805a04833",
        "colab": {
          "base_uri": "https://localhost:8080/",
          "height": 72
        }
      },
      "source": [
        "!unzip /content/deu-eng.zip"
      ],
      "execution_count": 0,
      "outputs": [
        {
          "output_type": "stream",
          "text": [
            "Archive:  /content/deu-eng.zip\n",
            "  inflating: deu.txt                 \n",
            "  inflating: _about.txt              \n"
          ],
          "name": "stdout"
        }
      ]
    },
    {
      "cell_type": "code",
      "metadata": {
        "id": "LdZ0qgeVOE18",
        "colab_type": "code",
        "colab": {}
      },
      "source": [
        "import numpy as np\n",
        "import pandas as pd\n",
        "import matplotlib.pyplot as plt\n",
        "import tensorflow as tf"
      ],
      "execution_count": 0,
      "outputs": []
    },
    {
      "cell_type": "code",
      "metadata": {
        "id": "9l5RH5G8OrSO",
        "colab_type": "code",
        "outputId": "4739afa6-3f06-433d-949f-926690f67d21",
        "colab": {
          "base_uri": "https://localhost:8080/",
          "height": 198
        }
      },
      "source": [
        "data = pd.read_csv(\"deu.txt\", sep = \"\\t\") # its a tab sep file\n",
        "data.head()"
      ],
      "execution_count": 0,
      "outputs": [
        {
          "output_type": "execute_result",
          "data": {
            "text/html": [
              "<div>\n",
              "<style scoped>\n",
              "    .dataframe tbody tr th:only-of-type {\n",
              "        vertical-align: middle;\n",
              "    }\n",
              "\n",
              "    .dataframe tbody tr th {\n",
              "        vertical-align: top;\n",
              "    }\n",
              "\n",
              "    .dataframe thead th {\n",
              "        text-align: right;\n",
              "    }\n",
              "</style>\n",
              "<table border=\"1\" class=\"dataframe\">\n",
              "  <thead>\n",
              "    <tr style=\"text-align: right;\">\n",
              "      <th></th>\n",
              "      <th>Go.</th>\n",
              "      <th>Geh.</th>\n",
              "      <th>CC-BY 2.0 (France) Attribution: tatoeba.org #2877272 (CM) &amp; #8597805 (Roujin)</th>\n",
              "    </tr>\n",
              "  </thead>\n",
              "  <tbody>\n",
              "    <tr>\n",
              "      <th>0</th>\n",
              "      <td>Hi.</td>\n",
              "      <td>Hallo!</td>\n",
              "      <td>CC-BY 2.0 (France) Attribution: tatoeba.org #5...</td>\n",
              "    </tr>\n",
              "    <tr>\n",
              "      <th>1</th>\n",
              "      <td>Hi.</td>\n",
              "      <td>Grüß Gott!</td>\n",
              "      <td>CC-BY 2.0 (France) Attribution: tatoeba.org #5...</td>\n",
              "    </tr>\n",
              "    <tr>\n",
              "      <th>2</th>\n",
              "      <td>Run!</td>\n",
              "      <td>Lauf!</td>\n",
              "      <td>CC-BY 2.0 (France) Attribution: tatoeba.org #9...</td>\n",
              "    </tr>\n",
              "    <tr>\n",
              "      <th>3</th>\n",
              "      <td>Run.</td>\n",
              "      <td>Lauf!</td>\n",
              "      <td>CC-BY 2.0 (France) Attribution: tatoeba.org #4...</td>\n",
              "    </tr>\n",
              "    <tr>\n",
              "      <th>4</th>\n",
              "      <td>Wow!</td>\n",
              "      <td>Potzdonner!</td>\n",
              "      <td>CC-BY 2.0 (France) Attribution: tatoeba.org #5...</td>\n",
              "    </tr>\n",
              "  </tbody>\n",
              "</table>\n",
              "</div>"
            ],
            "text/plain": [
              "    Go.  ... CC-BY 2.0 (France) Attribution: tatoeba.org #2877272 (CM) & #8597805 (Roujin)\n",
              "0   Hi.  ...  CC-BY 2.0 (France) Attribution: tatoeba.org #5...                           \n",
              "1   Hi.  ...  CC-BY 2.0 (France) Attribution: tatoeba.org #5...                           \n",
              "2  Run!  ...  CC-BY 2.0 (France) Attribution: tatoeba.org #9...                           \n",
              "3  Run.  ...  CC-BY 2.0 (France) Attribution: tatoeba.org #4...                           \n",
              "4  Wow!  ...  CC-BY 2.0 (France) Attribution: tatoeba.org #5...                           \n",
              "\n",
              "[5 rows x 3 columns]"
            ]
          },
          "metadata": {
            "tags": []
          },
          "execution_count": 4
        }
      ]
    },
    {
      "cell_type": "code",
      "metadata": {
        "id": "H8zZ7L8jYpe1",
        "colab_type": "code",
        "colab": {}
      },
      "source": [
        "import re"
      ],
      "execution_count": 0,
      "outputs": []
    },
    {
      "cell_type": "markdown",
      "metadata": {
        "id": "bC_1_qFGEGby",
        "colab_type": "text"
      },
      "source": [
        "[A guide to unicode, utf-8 and ascii](https://towardsdatascience.com/a-guide-to-unicode-utf-8-and-strings-in-python-757a232db95c)\n",
        "\n",
        "check the link for info on topics above "
      ]
    },
    {
      "cell_type": "markdown",
      "metadata": {
        "id": "prd6NZuq-Ssm",
        "colab_type": "text"
      },
      "source": [
        "### Text preprocessing"
      ]
    },
    {
      "cell_type": "code",
      "metadata": {
        "id": "UZzas5GcFE94",
        "colab_type": "code",
        "colab": {}
      },
      "source": [
        "import string\n",
        "import re\n",
        "from pickle import dump\n",
        "from unicodedata import normalize\n",
        "from numpy import array\n",
        "\n",
        "# load doc into memory\n",
        "def load_doc(filename):\n",
        "\t# open the file as read only\n",
        "    file = open(\"deu.txt\", \"rt\", encoding = \"utf-8\")\n",
        "    text = file.read()\n",
        "    file.close()\n",
        "    return text\n",
        "\n",
        "# split a loaded document into sentences\n",
        "def to_pairs(doc):\n",
        "\tlines = doc.split('\\n')\n",
        "\tpairs = [line.split('\\t') for line in  lines]\n",
        "\treturn pairs\n",
        "\n"
      ],
      "execution_count": 0,
      "outputs": []
    },
    {
      "cell_type": "code",
      "metadata": {
        "id": "K9O6TOdIFXGw",
        "colab_type": "code",
        "colab": {}
      },
      "source": [
        "# clean a list of lines\n",
        "def clean_pairs(pairs):\n",
        "    cleaned = []\n",
        "    # creating translation mapping for removing the punctuations\n",
        "    trans_table = str.maketrans(\"\", \"\", string.punctuation)\n",
        "\n",
        "    for pair in pairs:\n",
        "        clean_pair = []\n",
        "        for line in pair:\n",
        "\n",
        "            # conv into ascii (to conv non english chars to emglish)\n",
        "            line = unicodedata.normalize(\"NFD\", line)\n",
        "            line = line.encode(\"ascii\", \"ignore\")\n",
        "\n",
        "            # conv it back to utf (python3 runs on unicode)\n",
        "            line = line.decode(\"UTF-8\")\n",
        "\n",
        "            # split each word in the sentence on whitespace\n",
        "            line = line.split()\n",
        "\n",
        "            # conv to lowercase\n",
        "            line = [word.lower() for word in line]\n",
        "\n",
        "            # remove puntuations from each word\n",
        "            line = [word.translate(trans_table) for word in line]\n",
        "\n",
        "            # remove numbers\n",
        "            line = [word for word in line if word.isalpha()]\n",
        "\n",
        "            # join all the single elems in \"line\" into a single string\n",
        "            line = \" \".join(line)\n",
        "\n",
        "            # append each sentance as elems of list\n",
        "            clean_pair.append(line)\n",
        "            # clean_pair_arr = np.array(clean_pair)\n",
        "\n",
        "        # append the above list as an elem of list\n",
        "        cleaned.append(clean_pair)\n",
        "\n",
        "    # dealing with mismatching no of elems in the list inside list\n",
        "\n",
        "    max_elems = 3\n",
        "\n",
        "    # pad \"none\" for all the missing list elems\n",
        "    cleaned_new = [ls + [None]*(max_elems - len(ls)) for ls in cleaned]\n",
        "\n",
        "    return np.array(cleaned_new)\n"
      ],
      "execution_count": 0,
      "outputs": []
    },
    {
      "cell_type": "code",
      "metadata": {
        "id": "Z9VhLqnvGjLu",
        "colab_type": "code",
        "outputId": "ac0e7108-da2c-43c3-97a7-6358ea009293",
        "colab": {
          "base_uri": "https://localhost:8080/",
          "height": 490
        }
      },
      "source": [
        "# save a list of clean sentences to file\n",
        "def save_clean_data(sentences, filename):\n",
        "\tdump(sentences, open(filename, 'wb'))\n",
        "\tprint('Saved: %s' % filename)\n",
        "\n",
        "# load dataset\n",
        "filename = 'deu.txt'\n",
        "doc = load_doc(filename)\n",
        "\n",
        "# split into english-german pairs\n",
        "pairs = to_pairs(doc)\n",
        "\n",
        "# clean sentences\n",
        "clean_pairs = clean_pairs(pairs)\n",
        "\n",
        "# save clean pairs to file\n",
        "save_clean_data(clean_pairs, 'english-german.pkl')\n",
        "\n",
        "# view some x--y pairs\n",
        "for i in range(25):\n",
        "\tprint('[%s] => [%s]' % (clean_pairs[i,0], clean_pairs[i,1]))"
      ],
      "execution_count": 0,
      "outputs": [
        {
          "output_type": "stream",
          "text": [
            "Saved: english-german.pkl\n",
            "[go] => [geh]\n",
            "[hi] => [hallo]\n",
            "[hi] => [gru gott]\n",
            "[run] => [lauf]\n",
            "[run] => [lauf]\n",
            "[wow] => [potzdonner]\n",
            "[wow] => [donnerwetter]\n",
            "[fire] => [feuer]\n",
            "[help] => [hilfe]\n",
            "[help] => [zu hulf]\n",
            "[stop] => [stopp]\n",
            "[wait] => [warte]\n",
            "[wait] => [warte]\n",
            "[begin] => [fang an]\n",
            "[go on] => [mach weiter]\n",
            "[hello] => [hallo]\n",
            "[hurry] => [beeil dich]\n",
            "[hurry] => [schnell]\n",
            "[i ran] => [ich rannte]\n",
            "[i see] => [ich verstehe]\n",
            "[i see] => [aha]\n",
            "[i try] => [ich probiere es]\n",
            "[i won] => [ich hab gewonnen]\n",
            "[i won] => [ich habe gewonnen]\n",
            "[relax] => [entspann dich]\n"
          ],
          "name": "stdout"
        }
      ]
    },
    {
      "cell_type": "code",
      "metadata": {
        "id": "986LO6TbWEcw",
        "colab_type": "code",
        "outputId": "d2c0f0ad-cf05-4998-f440-9da41436e475",
        "colab": {
          "base_uri": "https://localhost:8080/",
          "height": 55
        }
      },
      "source": [
        "# checking last few sentences\n",
        "clean_pairs[-2, 0] #its very huge"
      ],
      "execution_count": 0,
      "outputs": [
        {
          "output_type": "execute_result",
          "data": {
            "text/plain": [
              "'doubtless there exists in this world precisely the right woman for any given man to marry and vice versa but when you consider that a human being has the opportunity of being acquainted with only a few hundred people and out of the few hundred that there are but a dozen or less whom he knows intimately and out of the dozen one or two friends at most it will easily be seen when we remember the number of millions who inhabit this world that probably since the earth was created the right man has never yet met the right woman'"
            ]
          },
          "metadata": {
            "tags": []
          },
          "execution_count": 24
        }
      ]
    },
    {
      "cell_type": "markdown",
      "metadata": {
        "id": "PJlzGd1gXFSK",
        "colab_type": "text"
      },
      "source": [
        "\n",
        "### Analysis:\n",
        "* The complexity of the pairs increases with the number of examples\n",
        "* we will simplify the problem slightly to dramatically reduce the size of the model required, and in turn the training time required to fit the model.\n",
        "* we will just take the first 10k samples and use 9k for training and 1k for test"
      ]
    },
    {
      "cell_type": "code",
      "metadata": {
        "id": "IJ4HDDOtXx9d",
        "colab_type": "code",
        "colab": {}
      },
      "source": [
        "dataset = clean_pairs[:10000, :]\n",
        "\n",
        "np.random.shuffle(dataset)\n",
        "train_data = dataset[: 9000]\n",
        "test_data = dataset[9000 : ]"
      ],
      "execution_count": 0,
      "outputs": []
    },
    {
      "cell_type": "code",
      "metadata": {
        "id": "Vo-4hG0IY7yS",
        "colab_type": "code",
        "colab": {}
      },
      "source": [
        "# lets create the tokenizer\n",
        "\n",
        "from tensorflow.keras.preprocessing.text import Tokenizer"
      ],
      "execution_count": 0,
      "outputs": []
    },
    {
      "cell_type": "code",
      "metadata": {
        "id": "kdjQFEKfBhnR",
        "colab_type": "code",
        "colab": {}
      },
      "source": [
        "# creating the tokenizer and fitting on eng data\n",
        "def create_tokenizer(lang_data):\n",
        "    tokenizer = Tokenizer()\n",
        "    tokenizer.fit_on_texts(lang_data)\n",
        "    return tokenizer"
      ],
      "execution_count": 0,
      "outputs": []
    },
    {
      "cell_type": "code",
      "metadata": {
        "id": "5jEMkUjcBwPc",
        "colab_type": "code",
        "colab": {}
      },
      "source": [
        "# creating eng and german tokenizers\n",
        "eng_tokenizer = create_tokenizer(dataset[:, 0])\n",
        "ger_tokenizer = create_tokenizer(dataset[:, 1])\n",
        "# return a tokenizer obj"
      ],
      "execution_count": 0,
      "outputs": []
    },
    {
      "cell_type": "code",
      "metadata": {
        "id": "-4ofzhRhMmiu",
        "colab_type": "code",
        "outputId": "f63e2b68-f320-419f-8c1b-29aa9a56c884",
        "colab": {
          "base_uri": "https://localhost:8080/",
          "height": 55
        }
      },
      "source": [
        "print(ger_tokenizer.word_index)"
      ],
      "execution_count": 0,
      "outputs": [
        {
          "output_type": "stream",
          "text": [
            "{'ich': 1, 'tom': 2, 'ist': 3, 'sie': 4, 'es': 5, 'das': 6, 'bin': 7, 'wir': 8, 'nicht': 9, 'hat': 10, 'du': 11, 'er': 12, 'habe': 13, 'mich': 14, 'ein': 15, 'zu': 16, 'sind': 17, 'war': 18, 'mir': 19, 'dich': 20, 'auf': 21, 'wer': 22, 'uns': 23, 'die': 24, 'kann': 25, 'sich': 26, 'ihr': 27, 'haben': 28, 'bist': 29, 'an': 30, 'werde': 31, 'hier': 32, 'eine': 33, 'gehen': 34, 'gut': 35, 'ihn': 36, 'wird': 37, 'einen': 38, 'was': 39, 'aus': 40, 'in': 41, 'mag': 42, 'lass': 43, 'dir': 44, 'wie': 45, 'mal': 46, 'mach': 47, 'werden': 48, 'liebe': 49, 'mein': 50, 'euch': 51, 'geht': 52, 'den': 53, 'wurde': 54, 'komm': 55, 'da': 56, 'mit': 57, 'hause': 58, 'nach': 59, 'jetzt': 60, 'der': 61, 'geh': 62, 'will': 63, 'sein': 64, 'konnen': 65, 'kommen': 66, 'fur': 67, 'bitte': 68, 'seid': 69, 'so': 70, 'meine': 71, 'beschaftigt': 72, 'gesehen': 73, 'gerade': 74, 'weg': 75, 'machen': 76, 'hast': 77, 'einfach': 78, 'tun': 79, 'sehr': 80, 'macht': 81, 'darf': 82, 'hatte': 83, 'hasse': 84, 'ab': 85, 'alle': 86, 'muss': 87, 'noch': 88, 'recht': 89, 'schon': 90, 'gefunden': 91, 'sei': 92, 'brauche': 93, 'helfen': 94, 'weiter': 95, 'gemacht': 96, 'niemand': 97, 'gib': 98, 'nimm': 99, 'kommt': 100, 'wei': 101, 'schnell': 102, 'hor': 103, 'krank': 104, 'ihm': 105, 'kein': 106, 'lasst': 107, 'glucklich': 108, 'essen': 109, 'auto': 110, 'gehe': 111, 'verloren': 112, 'versuchen': 113, 'maria': 114, 'tut': 115, 'kannst': 116, 'sieht': 117, 'sah': 118, 'ging': 119, 'am': 120, 'mehr': 121, 'leben': 122, 'ruhig': 123, 'weh': 124, 'allein': 125, 'viel': 126, 'ihnen': 127, 'lassen': 128, 'braucht': 129, 'kam': 130, 'gro': 131, 'zeit': 132, 'wo': 133, 'hei': 134, 'zuruck': 135, 'im': 136, 'gehort': 137, 'hund': 138, 'brauchen': 139, 'sehen': 140, 'nichts': 141, 'ja': 142, 'sterben': 143, 'los': 144, 'gerne': 145, 'gegangen': 146, 'wieder': 147, 'doch': 148, 'warum': 149, 'alt': 150, 'ordnung': 151, 'dem': 152, 'bei': 153, 'bleiben': 154, 'und': 155, 'herein': 156, 'spa': 157, 'sicher': 158, 'warten': 159, 'liebt': 160, 'gewonnen': 161, 'fertig': 162, 'schau': 163, 'bleib': 164, 'diese': 165, 'mude': 166, 'etwas': 167, 'gewinnen': 168, 'rein': 169, 'vor': 170, 'verruckt': 171, 'fahren': 172, 'dort': 173, 'nehmen': 174, 'kalt': 175, 'frei': 176, 'komme': 177, 'buch': 178, 'hin': 179, 'angst': 180, 'gern': 181, 'nur': 182, 'singen': 183, 'geld': 184, 'gegessen': 185, 'traurig': 186, 'schwimmen': 187, 'behalten': 188, 'von': 189, 'wissen': 190, 'konnt': 191, 'sagte': 192, 'auch': 193, 'lesen': 194, 'ganz': 195, 'betrunken': 196, 'habt': 197, 'scheint': 198, 'kennen': 199, 'fu': 200, 'versucht': 201, 'wutend': 202, 'ernst': 203, 'waren': 204, 'zieh': 205, 'raus': 206, 'weinen': 207, 'tur': 208, 'alles': 209, 'warte': 210, 'vorbei': 211, 'meinen': 212, 'gehts': 213, 'vielleicht': 214, 'nett': 215, 'arbeiten': 216, 'arbeit': 217, 'spat': 218, 'verletzt': 219, 'gesagt': 220, 'mochte': 221, 'deine': 222, 'halte': 223, 'laufen': 224, 'dran': 225, 'witze': 226, 'setz': 227, 'neu': 228, 'konnte': 229, 'lieben': 230, 'nie': 231, 'her': 232, 'esse': 233, 'still': 234, 'gekommen': 235, 'keine': 236, 'reich': 237, 'aufhoren': 238, 'kurz': 239, 'mann': 240, 'schuchtern': 241, 'eins': 242, 'okay': 243, 'zeig': 244, 'seien': 245, 'siehst': 246, 'tu': 247, 'fuhle': 248, 'zum': 249, 'wohl': 250, 'fuhlte': 251, 'besturzt': 252, 'langweilig': 253, 'dick': 254, 'fragen': 255, 'mache': 256, 'sag': 257, 'geschafft': 258, 'kaputt': 259, 'hallo': 260, 'sehe': 261, 'gibt': 262, 'schlecht': 263, 'hol': 264, 'wirst': 265, 'zuhause': 266, 'groartig': 267, 'tee': 268, 'wollen': 269, 'anfangen': 270, 'kochen': 271, 'musst': 272, 'gluck': 273, 'weit': 274, 'kaffee': 275, 'probier': 276, 'dabei': 277, 'arm': 278, 'jung': 279, 'mussen': 280, 'einmal': 281, 'fang': 282, 'bring': 283, 'verlieren': 284, 'drauen': 285, 'vertraut': 286, 'stehen': 287, 'schlafen': 288, 'reden': 289, 'leid': 290, 'dein': 291, 'dies': 292, 'schule': 293, 'worden': 294, 'hilfe': 295, 'hort': 296, 'getan': 297, 'bleibt': 298, 'bett': 299, 'wach': 300, 'bekommen': 301, 'katze': 302, 'gemein': 303, 'angerufen': 304, 'gestorben': 305, 'zur': 306, 'su': 307, 'weinte': 308, 'wusste': 309, 'faul': 310, 'gab': 311, 'hilft': 312, 'um': 313, 'fruh': 314, 'fort': 315, 'kennt': 316, 'besser': 317, 'liegt': 318, 'schwach': 319, 'vater': 320, 'nein': 321, 'heute': 322, 'nehme': 323, 'schieen': 324, 'sagen': 325, 'gefallen': 326, 'bus': 327, 'hoffe': 328, 'franzosisch': 329, 'ins': 330, 'neues': 331, 'fangen': 332, 'bier': 333, 'bose': 334, 'augen': 335, 'geschlagen': 336, 'meins': 337, 'ruhe': 338, 'bereit': 339, 'kenne': 340, 'dunn': 341, 'sprich': 342, 'funktioniert': 343, 'hab': 344, 'rannte': 345, 'verargert': 346, 'karte': 347, 'getroffen': 348, 'schlussel': 349, 'dazu': 350, 'dumm': 351, 'scher': 352, 'stand': 353, 'ware': 354, 'wirklich': 355, 'vermisse': 356, 'wagen': 357, 'vermissen': 358, 'wette': 359, 'schlie': 360, 'einverstanden': 361, 'fehlt': 362, 'gebissen': 363, 'schuld': 364, 'boston': 365, 'fisch': 366, 'blieb': 367, 'leise': 368, 'witz': 369, 'rot': 370, 'geholfen': 371, 'habs': 372, 'komisch': 373, 'hatten': 374, 'tot': 375, 'bezahlen': 376, 'wein': 377, 'rufen': 378, 'halten': 379, 'lese': 380, 'beginnen': 381, 'frag': 382, 'nervos': 383, 'sieh': 384, 'hunger': 385, 'morgen': 386, 'als': 387, 'iss': 388, 'fahre': 389, 'sprechen': 390, 'schuldig': 391, 'dreiig': 392, 'halt': 393, 'bezahlt': 394, 'gewarnt': 395, 'selbst': 396, 'oben': 397, 'seltsam': 398, 'weise': 399, 'ihre': 400, 'ausgeraubt': 401, 'sohn': 402, 'wasser': 403, 'man': 404, 'hierher': 405, 'lugen': 406, 'pech': 407, 'gelogen': 408, 'alter': 409, 'leiden': 410, 'leine': 411, 'cool': 412, 'klein': 413, 'klar': 414, 'vom': 415, 'tanzen': 416, 'lugt': 417, 'damit': 418, 'beruhmt': 419, 'willst': 420, 'uhr': 421, 'diat': 422, 'stark': 423, 'frau': 424, 'dass': 425, 'katzen': 426, 'sofort': 427, 'kinder': 428, 'panik': 429, 'reis': 430, 'hunde': 431, 'gott': 432, 'warm': 433, 'toms': 434, 'hut': 435, 'schwarz': 436, 'offne': 437, 'verstehe': 438, 'horen': 439, 'nutzlos': 440, 'milch': 441, 'geliebt': 442, 'geben': 443, 'gekauft': 444, 'muhe': 445, 'wurdest': 446, 'geschickt': 447, 'oft': 448, 'verwirrt': 449, 'verirrt': 450, 'unrecht': 451, 'rauchen': 452, 'trinken': 453, 'fass': 454, 'arbeitet': 455, 'holen': 456, 'gegeben': 457, 'sage': 458, 'toll': 459, 'beeilen': 460, 'junge': 461, 'fiel': 462, 'lief': 463, 'machte': 464, 'rennt': 465, 'rief': 466, 'behalt': 467, 'nehmt': 468, 'angelogen': 469, 'manner': 470, 'dafur': 471, 'steht': 472, 'lies': 473, 'plan': 474, 'schauen': 475, 'runter': 476, 'wartet': 477, 'zwei': 478, 'klug': 479, 'schreien': 480, 'gibts': 481, 'versuchs': 482, 'jahre': 483, 'vogel': 484, 'eier': 485, 'sauber': 486, 'wussten': 487, 'arzt': 488, 'ungewohnlich': 489, 'immer': 490, 'gelangweilt': 491, 'koch': 492, 'lustig': 493, 'bord': 494, 'sollen': 495, 'hasslich': 496, 'echt': 497, 'jemand': 498, 'hart': 499, 'schwer': 500, 'schalte': 501, 'hilf': 502, 'allen': 503, 'schmerzen': 504, 'stoppen': 505, 'mogen': 506, 'nass': 507, 'ungerecht': 508, 'fuhr': 509, 'wirf': 510, 'wahr': 511, 'gerettet': 512, 'tapfer': 513, 'verlassen': 514, 'hungrig': 515, 'genau': 516, 'bringen': 517, 'beeil': 518, 'lauter': 519, 'brauchst': 520, 'riecht': 521, 'vergessen': 522, 'vertraue': 523, 'verstanden': 524, 'fliegen': 525, 'isst': 526, 'bewegen': 527, 'bescheid': 528, 'haltet': 529, 'lauft': 530, 'fue': 531, 'perfekt': 532, 'ruf': 533, 'nahe': 534, 'fett': 535, 'unten': 536, 'arbeite': 537, 'naiv': 538, 'madchen': 539, 'seite': 540, 'brav': 541, 'tag': 542, 'trinke': 543, 'geduldig': 544, 'verschwinde': 545, 'blau': 546, 'ordentlich': 547, 'setzen': 548, 'kampfen': 549, 'hielt': 550, 'uberlebt': 551, 'passt': 552, 'warst': 553, 'drin': 554, 'anrufen': 555, 'ausruhen': 556, 'davon': 557, 'lernen': 558, 'keiner': 559, 'blind': 560, 'kaufen': 561, 'hoch': 562, 'suchen': 563, 'dunkel': 564, 'geweint': 565, 'verzieh': 566, 'sies': 567, 'leicht': 568, 'musste': 569, 'gehorchen': 570, 'spazieren': 571, 'andern': 572, 'versprochen': 573, 'frauen': 574, 'schreiben': 575, 'sing': 576, 'fest': 577, 'lachelte': 578, 'heraus': 579, 'legen': 580, 'spricht': 581, 'drinnen': 582, 'glaube': 583, 'grausam': 584, 'kocht': 585, 'gefeuert': 586, 'schneller': 587, 'wahrheit': 588, 'rufe': 589, 'kennst': 590, 'fernseher': 591, 'eingeladen': 592, 'verlor': 593, 'beliebt': 594, 'fliege': 595, 'unfair': 596, 'bekam': 597, 'blod': 598, 'gewinne': 599, 'ohnmachtig': 600, 'spiele': 601, 'waffe': 602, 'eifersuchtig': 603, 'held': 604, 'herunter': 605, 'durst': 606, 'schlief': 607, 'pleite': 608, 'bestes': 609, 'vorsichtig': 610, 'versuch': 611, 'unsere': 612, 'unhoflich': 613, 'gelassen': 614, 'rede': 615, 'lebt': 616, 'stimmt': 617, 'taxi': 618, 'geschieden': 619, 'freundlich': 620, 'vertrauen': 621, 'hau': 622, 'koche': 623, 'behaltet': 624, 'job': 625, 'na': 626, 'uberprufen': 627, 'weint': 628, 'gar': 629, 'verstecken': 630, 'ski': 631, 'klappt': 632, 'erzahlt': 633, 'yoga': 634, 'zuerst': 635, 'hingehen': 636, 'zah': 637, 'gewahlt': 638, 'lachen': 639, 'bald': 640, 'nacht': 641, 'gebaut': 642, 'einsam': 643, 'augenblick': 644, 'dagegen': 645, 'langsam': 646, 'verhungern': 647, 'durch': 648, 'luge': 649, 'keinen': 650, 'singt': 651, 'schlaft': 652, 'ding': 653, 'gefragt': 654, 'singe': 655, 'zahlen': 656, 'studiere': 657, 'musik': 658, 'grund': 659, 'lie': 660, 'liebte': 661, 'steh': 662, 'freiwillig': 663, 'pack': 664, 'eingestellt': 665, 'ubernehmen': 666, 'probieren': 667, 'laut': 668, 'schneide': 669, 'lachte': 670, 'umarmte': 671, 'gesungen': 672, 'amusiert': 673, 'uberlass': 674, 'finden': 675, 'passiert': 676, 'reinkommen': 677, 'wollte': 678, 'offnen': 679, 'wunderbar': 680, 'schaut': 681, 'geschlafen': 682, 'mager': 683, 'sauer': 684, 'bis': 685, 'besorgt': 686, 'unschuldig': 687, 'kummern': 688, 'eines': 689, 'erkaltet': 690, 'wart': 691, 'montag': 692, 'ne': 693, 'trank': 694, 'aufrichtig': 695, 'schoss': 696, 'fassen': 697, 'troll': 698, 'lugner': 699, 'schmerzt': 700, 'egal': 701, 'gehabt': 702, 'daruber': 703, 'schwirr': 704, 'hoflich': 705, 'fallen': 706, 'pflicht': 707, 'tritt': 708, 'wurden': 709, 'schwindlig': 710, 'pferd': 711, 'esst': 712, 'verkauft': 713, 'groer': 714, 'anderer': 715, 'ubel': 716, 'nochmal': 717, 'hasste': 718, 'dieses': 719, 'spion': 720, 'schlau': 721, 'folgen': 722, 'zusammen': 723, 'schwimmt': 724, 'entspann': 725, 'lugst': 726, 'alleine': 727, 'richtig': 728, 'geschummelt': 729, 'rennen': 730, 'wort': 731, 'guter': 732, 'mutter': 733, 'gesicht': 734, 'hand': 735, 'kreativ': 736, 'vorne': 737, 'gefangen': 738, 'sollten': 739, 'sprach': 740, 'acht': 741, 'darum': 742, 'wasch': 743, 'laufpass': 744, 'verkrumele': 745, 'kussen': 746, 'verdufte': 747, 'neugierig': 748, 'verliebt': 749, 'toten': 750, 'bescheiden': 751, 'beruhige': 752, 'hasst': 753, 'lernt': 754, 'krieg': 755, 'rucken': 756, 'durfen': 757, 'half': 758, 'mary': 759, 'gewinnt': 760, 'schaffen': 761, 'sause': 762, 'gerufen': 763, 'sagten': 764, 'summen': 765, 'sicherheitsdienst': 766, 'rechnung': 767, 'kannte': 768, 'erkaltung': 769, 'fische': 770, 'verheiratet': 771, 'summt': 772, 'weine': 773, 'geschehen': 774, 'schluss': 775, 'problem': 776, 'erzahl': 777, 'zeigen': 778, 'deckung': 779, 'maus': 780, 'entlassen': 781, 'machst': 782, 'angekommen': 783, 'furchte': 784, 'druck': 785, 'gehoren': 786, 'deins': 787, 'antworten': 788, 'apfel': 789, 'ok': 790, 'gebe': 791, 'treffen': 792, 'rate': 793, 'ruiniert': 794, 'gelacht': 795, 'acker': 796, 'beeilt': 797, 'umarmt': 798, 'naher': 799, 'fahrt': 800, 'jungen': 801, 'besoffen': 802, 'soweit': 803, 'gesund': 804, 'fangt': 805, 'zisch': 806, 'sagt': 807, 'gerecht': 808, 'danke': 809, 'leg': 810, 'wozu': 811, 'einer': 812, 'schmutzig': 813, 'trink': 814, 'beweg': 815, 'letzte': 816, 'mutig': 817, 'gleich': 818, 'schlittschuh': 819, 'mensch': 820, 'wen': 821, 'geschrieben': 822, 'liste': 823, 'gebracht': 824, 'versteckt': 825, 'ihres': 826, 'feuer': 827, 'hinein': 828, 'krebs': 829, 'traume': 830, 'diabetiker': 831, 'drum': 832, 'erwischt': 833, 'helfe': 834, 'verschlafen': 835, 'regnet': 836, 'frage': 837, 'heier': 838, 'moment': 839, 'amusieren': 840, 'eure': 841, 'schreibt': 842, 'gewachsen': 843, 'traumen': 844, 'kicherte': 845, 'siegen': 846, 'starb': 847, 'raucht': 848, 'stimme': 849, 'scherzen': 850, 'leichtglaubig': 851, 'unglucklich': 852, 'ihrer': 853, 'schnee': 854, 'offnet': 855, 'irre': 856, 'mussten': 857, 'unglaublich': 858, 'such': 859, 'nahm': 860, 'gas': 861, 'plane': 862, 'erfolgreich': 863, 'lauf': 864, 'spring': 865, 'meinung': 866, 'heim': 867, 'verlaufen': 868, 'froh': 869, 'fahr': 870, 'gebt': 871, 'genug': 872, 'familie': 873, 'pingelig': 874, 'fair': 875, 'verbrannt': 876, 'kunstler': 877, 'meinem': 878, 'dann': 879, 'vergeben': 880, 'vertraute': 881, 'zahn': 882, 'reparieren': 883, 'mitmachen': 884, 'gefallt': 885, 'verschwunden': 886, 'machs': 887, 'spater': 888, 'abendessen': 889, 'legt': 890, 'fernsehen': 891, 'haus': 892, 'erinnere': 893, 'glatze': 894, 'redet': 895, 'vermisst': 896, 'schick': 897, 'ausland': 898, 'blass': 899, 'vergiss': 900, 'schneit': 901, 'wahnsinnig': 902, 'verandern': 903, 'seinen': 904, 'fach': 905, 'fastet': 906, 'schwimme': 907, 'hey': 908, 'fast': 909, 'schwindelig': 910, 'getrunken': 911, 'angeschossen': 912, 'verbindung': 913, 'schame': 914, 'wachsam': 915, 'krankenschwester': 916, 'reizend': 917, 'getotet': 918, 'ziehen': 919, 'deinen': 920, 'ahnung': 921, 'beweise': 922, 'typ': 923, 'gekusst': 924, 'spielen': 925, 'gesprochen': 926, 'klingt': 927, 'reihe': 928, 'repariere': 929, 'voreingenommen': 930, 'falle': 931, 'tue': 932, 'lippen': 933, 'schreit': 934, 'zeigs': 935, 'verandert': 936, 'mochten': 937, 'taub': 938, 'menschen': 939, 'las': 940, 'groe': 941, 'verdient': 942, 'adoptiert': 943, 'geheimnis': 944, 'hore': 945, 'nickerchen': 946, 'a': 947, 'sicherheit': 948, 'ohr': 949, 'kannten': 950, 'verstecke': 951, 'geschwommen': 952, 'brach': 953, 'umarmen': 954, 'gesetz': 955, 'folge': 956, 'entkommen': 957, 'denn': 958, 'dj': 959, 'schade': 960, 'pass': 961, 'aufgehort': 962, 'lerne': 963, 'stimmen': 964, 'willkommen': 965, 'aufstehen': 966, 'scherz': 967, 'kontrollieren': 968, 'mama': 969, 'traf': 970, 'kuchen': 971, 'reicht': 972, 'ei': 973, 'lang': 974, 'weitermachen': 975, 'wenig': 976, 'sitzen': 977, 'wichtig': 978, 'platz': 979, 'spreche': 980, 'zahle': 981, 'klarkommen': 982, 'auer': 983, 'sorgen': 984, 'setzte': 985, 'fachmann': 986, 'schrecklich': 987, 'hoffnung': 988, 'entscheiden': 989, 'mathematik': 990, 'gierig': 991, 'fleisch': 992, 'nummer': 993, 'ruber': 994, 'gewitzt': 995, 'wiedersehen': 996, 'wem': 997, 'verlasse': 998, 'schlimm': 999, 'betet': 1000, 'ball': 1001, 'lacheln': 1002, 'schlafrig': 1003, 'bekifft': 1004, 'zuruckgetreten': 1005, 'betrogen': 1006, 'clever': 1007, 'hassen': 1008, 'gescheitert': 1009, 'reise': 1010, 'ach': 1011, 'wohnung': 1012, 'idee': 1013, 'teilen': 1014, 'heldenhaft': 1015, 'finde': 1016, 'abendbrot': 1017, 'nickte': 1018, 'lieber': 1019, 'moglich': 1020, 'tor': 1021, 'dieb': 1022, 'wecke': 1023, 'genauer': 1024, 'chef': 1025, 'idioten': 1026, 'boden': 1027, 'verlass': 1028, 'drauf': 1029, 'freude': 1030, 'blut': 1031, 'studiert': 1032, 'halfte': 1033, 'schien': 1034, 'beschadigt': 1035, 'einzuwenden': 1036, 'suche': 1037, 'fortfahren': 1038, 'tasche': 1039, 'tief': 1040, 'liebten': 1041, 'funktionieren': 1042, 'beobachtet': 1043, 'wohlhabend': 1044, 'kniete': 1045, 'sterbe': 1046, 'nase': 1047, 'hinunter': 1048, 'erster': 1049, 'gescheit': 1050, 'meinte': 1051, 'uberlebte': 1052, 'knapp': 1053, 'nachste': 1054, 'nachdenken': 1055, 'verraten': 1056, 'munze': 1057, 'bins': 1058, 'bringe': 1059, 'trafen': 1060, 'fand': 1061, 'unmoralisch': 1062, 'bezahle': 1063, 'gnadig': 1064, 'gefahr': 1065, 'boot': 1066, 'gold': 1067, 'zweifel': 1068, 'trat': 1069, 'nutze': 1070, 'paris': 1071, 'lag': 1072, 'falsch': 1073, 'zurecht': 1074, 'turen': 1075, 'veganer': 1076, 'unterstutze': 1077, 'beseitigt': 1078, 'entfernt': 1079, 'obst': 1080, 'euer': 1081, 'frieden': 1082, 'sport': 1083, 'pummelig': 1084, 'wehgetan': 1085, 'unterschreiben': 1086, 'ignorier': 1087, 'blumen': 1088, 'bart': 1089, 'denk': 1090, 'standen': 1091, 'druckt': 1092, 'hinkt': 1093, 'log': 1094, 'weggeraumt': 1095, 'tat': 1096, 'spezifisch': 1097, 'brot': 1098, 'sache': 1099, 'rettete': 1100, 'gnadenlos': 1101, 'bewundern': 1102, 'rieche': 1103, 'sa': 1104, 'langer': 1105, 'bleibe': 1106, 'treten': 1107, 'bringt': 1108, 'mitfahren': 1109, 'trotzdem': 1110, 'aufgeblasen': 1111, 'verpiss': 1112, 'tratschen': 1113, 'gaben': 1114, 'beide': 1115, 'nackt': 1116, 'kiefer': 1117, 'schloss': 1118, 'versagen': 1119, 'entspannt': 1120, 'bucher': 1121, 'fix': 1122, 'verklagen': 1123, 'daran': 1124, 'gemeint': 1125, 'kuss': 1126, 'heiliger': 1127, 'seil': 1128, 'findet': 1129, 'repariert': 1130, 'kamen': 1131, 'wieso': 1132, 'beruhigen': 1133, 'stimmte': 1134, 'toricht': 1135, 'objektiv': 1136, 'herbst': 1137, 'idiot': 1138, 'lied': 1139, 'ruhr': 1140, 'geschossen': 1141, 'student': 1142, 'probiert': 1143, 'soe': 1144, 'super': 1145, 'geschneit': 1146, 'scherzt': 1147, 'erfolg': 1148, 'salat': 1149, 'schicken': 1150, 'anderes': 1151, 'pizza': 1152, 'ausstehen': 1153, 'mitnehmen': 1154, 'oder': 1155, 'aber': 1156, 'stehe': 1157, 'herum': 1158, 'kontrollier': 1159, 'bewaffnet': 1160, 'beifall': 1161, 'daheim': 1162, 'beneide': 1163, 'strengt': 1164, 'erschossen': 1165, 'luft': 1166, 'benutzen': 1167, 'unsinn': 1168, 'enttauscht': 1169, 'suigkeiten': 1170, 'launisch': 1171, 'werd': 1172, 'cd': 1173, 'gehasst': 1174, 'dorthin': 1175, 'schwierig': 1176, 'freunde': 1177, 'wegen': 1178, 'guck': 1179, 'kanadier': 1180, 'eilte': 1181, 'gucken': 1182, 'sinn': 1183, 'umgebracht': 1184, 'ruft': 1185, 'gruselig': 1186, 'gingen': 1187, 'obdachlos': 1188, 'damlich': 1189, 'gewappnet': 1190, 'schlagen': 1191, 'gute': 1192, 'sucht': 1193, 'vernunftig': 1194, 'ziemlich': 1195, 'weggenommen': 1196, 'selten': 1197, 'erblindete': 1198, 'kaum': 1199, 'dreh': 1200, 'ehrlich': 1201, 'normal': 1202, 'sangen': 1203, 'abgesagt': 1204, 'schlimmer': 1205, 'sue': 1206, 'entschuldigen': 1207, 'verstehen': 1208, 'seht': 1209, 'erzahlen': 1210, 'verlobt': 1211, 'jungs': 1212, 'bekomme': 1213, 'hinter': 1214, 'schreibe': 1215, 'uberfallen': 1216, 'motor': 1217, 'fasst': 1218, 'fehlen': 1219, 'nun': 1220, 'schreib': 1221, 'japaner': 1222, 'abend': 1223, 'schliee': 1224, 'teile': 1225, 'sollte': 1226, 'dahin': 1227, 'gerannt': 1228, 'bedient': 1229, 'beeile': 1230, 'losgehen': 1231, 'mathe': 1232, 'rock': 1233, 'fragte': 1234, 'gehst': 1235, 'ausgegangen': 1236, 'rasiert': 1237, 'stadt': 1238, 'nichtsnutz': 1239, 'entlang': 1240, 'unbewaffnet': 1241, 'schummelte': 1242, 'schrie': 1243, 'stirbt': 1244, 'irrt': 1245, 'aufregend': 1246, 'geheiratet': 1247, 'wars': 1248, 'betrog': 1249, 'zug': 1250, 'notig': 1251, 'joggen': 1252, 'ernsthaft': 1253, 'geworden': 1254, 'gefolgt': 1255, 'stellen': 1256, 'tanzt': 1257, 'nachlassen': 1258, 'landkarte': 1259, 'bewundere': 1260, 'ubernimm': 1261, 'uberleben': 1262, 'scheinen': 1263, 'liest': 1264, 'fuhrung': 1265, 'einfaltig': 1266, 'jemanden': 1267, 'hoher': 1268, 'menge': 1269, 'gearbeitet': 1270, 'heie': 1271, 'irren': 1272, 'mittag': 1273, 'verkauf': 1274, 'traum': 1275, 'dichter': 1276, 'blodmann': 1277, 'mantel': 1278, 'stellte': 1279, 'fuhre': 1280, 'versagt': 1281, 'geblieben': 1282, 'gemeldet': 1283, 'hats': 1284, 'vorsicht': 1285, 'sahen': 1286, 'tresor': 1287, 'streng': 1288, 'zurechtkommen': 1289, 'benotige': 1290, 'ture': 1291, 'klatschte': 1292, 'kontrolliert': 1293, 'benutze': 1294, 'niedergeschlagen': 1295, 'zwilling': 1296, 'sturzte': 1297, 'absage': 1298, 'bewusstsein': 1299, 'nochmals': 1300, 'entschuldigung': 1301, 'satt': 1302, 'geraten': 1303, 'solltest': 1304, 'zucker': 1305, 'dinge': 1306, 'fragt': 1307, 'minute': 1308, 'schwanger': 1309, 'strae': 1310, 'verschwand': 1311, 'gewehr': 1312, 'probiere': 1313, 'wirds': 1314, 'halften': 1315, 'schuldest': 1316, 'baut': 1317, 'handschellen': 1318, 'warteten': 1319, 'humpelt': 1320, 'filmen': 1321, 'aufgelegt': 1322, 'sieger': 1323, 'kopfschmerzen': 1324, 'zog': 1325, 'meinst': 1326, 'trainiert': 1327, 'stort': 1328, 'stecken': 1329, 'zwolf': 1330, 'begegnet': 1331, 'bar': 1332, 'fischen': 1333, 'freund': 1334, 'reisen': 1335, 'schnappte': 1336, 'ruht': 1337, 'verziehen': 1338, 'wann': 1339, 'arbeitslos': 1340, 'anhalten': 1341, 'jeder': 1342, 'flugzeug': 1343, 'kaufe': 1344, 'sturmte': 1345, 'gelegen': 1346, 'niemanden': 1347, 'samstag': 1348, 'sushi': 1349, 'zahl': 1350, 'widersprach': 1351, 'zeige': 1352, 'gelachelt': 1353, 'laufer': 1354, 'fassungslos': 1355, 'erklaren': 1356, 'hineingehen': 1357, 'leidet': 1358, 'unter': 1359, 'hervorragend': 1360, 'stirbst': 1361, 'breit': 1362, 'feger': 1363, 'respektieren': 1364, 'besuch': 1365, 'gebrauch': 1366, 'unternehmungslustig': 1367, 'improvisiert': 1368, 'pflanzen': 1369, 'wachsen': 1370, 'gesprungen': 1371, 'bargeld': 1372, 'fan': 1373, 'gehore': 1374, 'hereingelegt': 1375, 'gewartet': 1376, 'lacht': 1377, 'tanze': 1378, 'wahlte': 1379, 'vergib': 1380, 'dankbar': 1381, 'schimpfte': 1382, 'zuruckgekommen': 1383, 'dummkopf': 1384, 'tisch': 1385, 'blicke': 1386, 'regen': 1387, 'zuruckkommen': 1388, 'optimist': 1389, 'angeln': 1390, 'schubsen': 1391, 'erschuttert': 1392, 'rollschuh': 1393, 'rasierte': 1394, 'steige': 1395, 'bremse': 1396, 'berliner': 1397, 'versuchten': 1398, 'rad': 1399, 'gehorcht': 1400, 'ran': 1401, 'hingegangen': 1402, 'narr': 1403, 'ubergewichtig': 1404, 'ignoriert': 1405, 'zufrieden': 1406, 'verkaufe': 1407, 'spielt': 1408, 'pfeife': 1409, 'autos': 1410, 'druber': 1411, 'kreischte': 1412, 'beschwert': 1413, 'bemerkt': 1414, 'setzten': 1415, 'kummere': 1416, 'kopfweh': 1417, 'unterrichtet': 1418, 'sues': 1419, 'einem': 1420, 'untersuchen': 1421, 'robben': 1422, 'magst': 1423, 'davongekommen': 1424, 'bekannt': 1425, 'lowe': 1426, 'wachen': 1427, 'selbstsuchtig': 1428, 'getreten': 1429, 'trinkgeld': 1430, 'sang': 1431, 'bewusstlos': 1432, 'tasse': 1433, 'ausreichend': 1434, 'angestellt': 1435, 'ubertrieben': 1436, 'aufgabe': 1437, 'scharf': 1438, 'hellwach': 1439, 'stohnte': 1440, 'holz': 1441, 'friert': 1442, 'summst': 1443, 'rette': 1444, 'entschuldige': 1445, 'sand': 1446, 'stinken': 1447, 'letzter': 1448, 'kopie': 1449, 'geglaubt': 1450, 'backer': 1451, 'gefangnis': 1452, 'rechts': 1453, 'gesundheit': 1454, 'abgeschlossen': 1455, 'tus': 1456, 'poet': 1457, 'besten': 1458, 'fehlst': 1459, 'durcheinander': 1460, 'kuhe': 1461, 'ende': 1462, 'heran': 1463, 'antworte': 1464, 'helft': 1465, 'durstig': 1466, 'rutsch': 1467, 'verkatert': 1468, 'kuli': 1469, 'liebenswurdig': 1470, 'gewusst': 1471, 'blinzelte': 1472, 'anfassen': 1473, 'niemandem': 1474, 'erinnern': 1475, 'quatsch': 1476, 'improvisierte': 1477, 'voran': 1478, 'horte': 1479, 'locker': 1480, 'schaue': 1481, 'fuhrt': 1482, 'kummert': 1483, 'lange': 1484, 'vage': 1485, 'fbi': 1486, 'eingeschlafen': 1487, 'schlieen': 1488, 'sommer': 1489, 'zugehort': 1490, 'niete': 1491, 'ekelhaft': 1492, 'fuchsteufelswild': 1493, 'summe': 1494, 'loch': 1495, 'beachten': 1496, 'erfunden': 1497, 'bewegt': 1498, 'nietenhose': 1499, 'hole': 1500, 'ubergeben': 1501, 'springen': 1502, 'schlag': 1503, 'sollst': 1504, 'wurdet': 1505, 'interessiert': 1506, 'mittagessen': 1507, 'geschnappt': 1508, 'amerikaner': 1509, 'zahlte': 1510, 'braun': 1511, 'uber': 1512, 'bewege': 1513, 'halts': 1514, 'maul': 1515, 'schnarche': 1516, 'brechen': 1517, 'gespendet': 1518, 'wirs': 1519, 'nutzlich': 1520, 'weckte': 1521, 'juristen': 1522, 'engel': 1523, 'willen': 1524, 'entkam': 1525, 'denke': 1526, 'strengen': 1527, 'beobachte': 1528, 'riechst': 1529, 'kapiert': 1530, 'laufe': 1531, 'meines': 1532, 'umziehen': 1533, 'eitel': 1534, 'herauf': 1535, 'telefonierte': 1536, 'brennt': 1537, 'wurfele': 1538, 'eindruck': 1539, 'pferde': 1540, 'eingebildet': 1541, 'regel': 1542, 'darfst': 1543, 'gahnte': 1544, 'zwiebeln': 1545, 'rechtsanwalt': 1546, 'gerechtigkeit': 1547, 'salz': 1548, 'genervt': 1549, 'artig': 1550, 'hande': 1551, 'zwinkerte': 1552, 'vorbeigekommen': 1553, 'bitten': 1554, 'zweck': 1555, 'entschuldigte': 1556, 'insekten': 1557, 'fuge': 1558, 'aha': 1559, 'eingeschritten': 1560, 'hubsch': 1561, 'spinat': 1562, 'wurfle': 1563, 'neblig': 1564, 'huhn': 1565, 'langsamer': 1566, 'retten': 1567, 'horst': 1568, 'naturlich': 1569, 'beobachten': 1570, 'genieen': 1571, 'vorfuhrung': 1572, 'nahrung': 1573, 'zugelassen': 1574, 'scham': 1575, 'beim': 1576, 'geantwortet': 1577, 'rindfleisch': 1578, 'guten': 1579, 'werdet': 1580, 'gefahrlich': 1581, 'genie': 1582, 'reihen': 1583, 'erinnert': 1584, 'versichert': 1585, 'meidet': 1586, 'starren': 1587, 'kommst': 1588, 'tschuss': 1589, 'gelesen': 1590, 'london': 1591, 'blond': 1592, 'umarme': 1593, 'kunst': 1594, 'mumm': 1595, 'unordentlich': 1596, 'lern': 1597, 'scharfsinnig': 1598, 'bezahlte': 1599, 'ostern': 1600, 'hosentrager': 1601, 'ratet': 1602, 'lebe': 1603, 'stritt': 1604, 'sympathisch': 1605, 'frohe': 1606, 'meint': 1607, 'schaute': 1608, 'darauf': 1609, 'zogerte': 1610, 'cousins': 1611, 'solltet': 1612, 'kopf': 1613, 'verrucht': 1614, 'menschlich': 1615, 'fressen': 1616, 'anwesend': 1617, 'purist': 1618, 'ignorierte': 1619, 'uberlasst': 1620, 'name': 1621, 'tatverdachtiger': 1622, 'dollar': 1623, 'beinahe': 1624, 'unverletzt': 1625, 'gefiel': 1626, 'abserviert': 1627, 'wehren': 1628, 'filme': 1629, 'blickte': 1630, 'sitzenlassen': 1631, 'huste': 1632, 'nachster': 1633, 'meldet': 1634, 'seins': 1635, 'kusste': 1636, 'wachte': 1637, 'faust': 1638, 'vergiftet': 1639, 'abgeschnitten': 1640, 'schritt': 1641, 'ob': 1642, 'vati': 1643, 'erschopft': 1644, 'beweisen': 1645, 'beten': 1646, 'diskret': 1647, 'doste': 1648, 'miesepeter': 1649, 'fuller': 1650, 'geschwitzt': 1651, 'trinkt': 1652, 'miteinander': 1653, 'konnten': 1654, 'gekundigt': 1655, 'leer': 1656, 'skurril': 1657, 'fragst': 1658, 'raten': 1659, 'erleichterung': 1660, 'schwamm': 1661, 'biss': 1662, 'unser': 1663, 'packt': 1664, 'sinken': 1665, 'genommen': 1666, 'gestoppt': 1667, 'unfreundlich': 1668, 'daraus': 1669, 'arzte': 1670, 'probleme': 1671, 'legal': 1672, 'laufenden': 1673, 'geschrien': 1674, 'lage': 1675, 'knoblauch': 1676, 'achzte': 1677, 'vier': 1678, 'riskant': 1679, 'geheim': 1680, 'regnen': 1681, 'geschlossen': 1682, 'lehrerin': 1683, 'geruhrt': 1684, 'gefuhrt': 1685, 'hangt': 1686, 'puppe': 1687, 'nervt': 1688, 'geschenke': 1689, 'schnarcht': 1690, 'baby': 1691, 'angefangen': 1692, 'ausgeruht': 1693, 'tote': 1694, 'mut': 1695, 'entspannen': 1696, 'erledigt': 1697, 'handtuch': 1698, 'grun': 1699, 'soll': 1700, 'gruen': 1701, 'ziel': 1702, 'bedurftig': 1703, 'trug': 1704, 'lachs': 1705, 'zielen': 1706, 'unleidlich': 1707, 'meditiere': 1708, 'fruhling': 1709, 'ausgebrochen': 1710, 'logisch': 1711, 'ansehen': 1712, 'hinterhaltig': 1713, 'partys': 1714, 'angriff': 1715, 'nerven': 1716, 'scherze': 1717, 'trage': 1718, 'gesorgt': 1719, 'lehrer': 1720, 'verwende': 1721, 'verga': 1722, 'ihren': 1723, 'unversichert': 1724, 'fruhzeitig': 1725, 'tatsache': 1726, 'dringend': 1727, 'ehrgeizig': 1728, 'bisschen': 1729, 'geriet': 1730, 'versuchung': 1731, 'scheinst': 1732, 'moslem': 1733, 'legte': 1734, 'angsthase': 1735, 'arbeitete': 1736, 'telefoniert': 1737, 'stecke': 1738, 'verschwinden': 1739, 'kommando': 1740, 'gehauen': 1741, 'gefehlt': 1742, 'jazz': 1743, 'denkt': 1744, 'risiko': 1745, 'monch': 1746, 'gewesen': 1747, 'schockiert': 1748, 'sparsam': 1749, 'seh': 1750, 'stirb': 1751, 'schuss': 1752, 'verblufft': 1753, 'krankenpfleger': 1754, 'vielen': 1755, 'dank': 1756, 'schuler': 1757, 'besonders': 1758, 'feuchtes': 1759, 'haar': 1760, 'rulpste': 1761, 'fluch': 1762, 'koreanisch': 1763, 'wache': 1764, 'grundlich': 1765, 'erschoss': 1766, 'gerochen': 1767, 'lachten': 1768, 'jeden': 1769, 'fall': 1770, 'talent': 1771, 'fahrrad': 1772, 'tokyo': 1773, 'lenkte': 1774, 'schonen': 1775, 'dachte': 1776, 'pause': 1777, 'ufo': 1778, 'unterrichten': 1779, 'sechs': 1780, 'radio': 1781, 'wert': 1782, 'fasten': 1783, 'wurfel': 1784, 'alteste': 1785, 'erholt': 1786, 'verhindern': 1787, 'aufmerksam': 1788, 'rotschopf': 1789, 'lach': 1790, 'jahr': 1791, 'falschung': 1792, 'gedanken': 1793, 'gewalttatig': 1794, 'reingelegt': 1795, 'schlafe': 1796, 'winter': 1797, 'nuchtern': 1798, 'steigen': 1799, 'wurfeln': 1800, 'kostet': 1801, 'kind': 1802, 'beweis': 1803, 'single': 1804, 'kaputtgemacht': 1805, 'benutzt': 1806, 'funktionierts': 1807, 'verboten': 1808, 'beheben': 1809, 'herz': 1810, 'loslegen': 1811, 'verspate': 1812, 'erledigen': 1813, 'studentin': 1814, 'unseres': 1815, 'heult': 1816, 'studieren': 1817, 'form': 1818, 'verwundet': 1819, 'zustimmen': 1820, 'uberlassen': 1821, 'zoomte': 1822, 'hustete': 1823, 'spiel': 1824, 'boss': 1825, 'kusst': 1826, 'irgendwen': 1827, 'beachte': 1828, 'kafig': 1829, 'eulen': 1830, 'warnen': 1831, 'besucht': 1832, 'schweine': 1833, 'schrei': 1834, 'lecker': 1835, 'vorurteile': 1836, 'ziehe': 1837, 'abbrechen': 1838, 'eis': 1839, 'zeichne': 1840, 'zeichen': 1841, 'stopp': 1842, 'welche': 1843, 'lachelt': 1844, 'kontrolle': 1845, 'sonst': 1846, 'niese': 1847, 'kekse': 1848, 'angreifen': 1849, 'schickt': 1850, 'ohnmacht': 1851, 'schriftsteller': 1852, 'fantastisch': 1853, 'machtig': 1854, 'wirkst': 1855, 'geirrt': 1856, 'zubereitet': 1857, 'brachte': 1858, 'englander': 1859, 'ruhestand': 1860, 'entschuldigt': 1861, 'nagelneu': 1862, 'tatsachen': 1863, 'feigling': 1864, 'post': 1865, 'aufgegeben': 1866, 'gebetet': 1867, 'windig': 1868, 'zimmer': 1869, 'aufgestanden': 1870, 'leute': 1871, 'tennis': 1872, 'verwenden': 1873, 'weggehen': 1874, 'suchtig': 1875, 'dieser': 1876, 'irgendwelche': 1877, 'nachstes': 1878, 'aufgeben': 1879, 'eintreten': 1880, 'angehalten': 1881, 'fugte': 1882, 'haarstraubend': 1883, 'wiederkommen': 1884, 'witzig': 1885, 'schlosser': 1886, 'ahnlich': 1887, 'existiert': 1888, 'gehaltserhohung': 1889, 'mitkriegen': 1890, 'gestartet': 1891, 'junggeselle': 1892, 'uberlegen': 1893, 'ubernehme': 1894, 'gen': 1895, 'westen': 1896, 'wahnsinn': 1897, 'trag': 1898, 'tolerant': 1899, 'tatsachlich': 1900, 'einsteigen': 1901, 'anfanger': 1902, 'radikal': 1903, 'sterblich': 1904, 'kaufte': 1905, 'federn': 1906, 'gefangener': 1907, 'uberblick': 1908, 'benommen': 1909, 'kochin': 1910, 'schlaf': 1911, 'erbsen': 1912, 'abgemacht': 1913, 'schlaganfall': 1914, 'becher': 1915, 'sags': 1916, 'absagen': 1917, 'zerstort': 1918, 'skifahren': 1919, 'reicher': 1920, 'interessierts': 1921, 'gratis': 1922, 'folgte': 1923, 'chaot': 1924, 'zehn': 1925, 'labil': 1926, 'gutig': 1927, 'bananen': 1928, 'brutal': 1929, 'beschleunigt': 1930, 'habens': 1931, 'bete': 1932, 'riech': 1933, 'druckten': 1934, 'dankst': 1935, 'donnerwetter': 1936, 'zwangen': 1937, 'jagen': 1938, 'kommentar': 1939, 'betrugt': 1940, 'tauschen': 1941, 'seine': 1942, 'blutete': 1943, 'stur': 1944, 'befindet': 1945, 'patient': 1946, 'schiet': 1947, 'stuntman': 1948, 'uben': 1949, 'trost': 1950, 'beien': 1951, 'gesundigt': 1952, 'tanzten': 1953, 'woran': 1954, 'geizig': 1955, 'durchgedreht': 1956, 'kanns': 1957, 'maler': 1958, 'weigere': 1959, 'bezahlst': 1960, 'schaffst': 1961, 'fangst': 1962, 'fasse': 1963, 'davor': 1964, 'begluckt': 1965, 'kasse': 1966, 'legastheniker': 1967, 'plastik': 1968, 'soldat': 1969, 'schneite': 1970, 'erzahlte': 1971, 'murrisch': 1972, 'langweilst': 1973, 'hoffnungslos': 1974, 'minenarbeiter': 1975, 'gestand': 1976, 'gelenke': 1977, 'obszon': 1978, 'hickse': 1979, 'furchten': 1980, 'hinweg': 1981, 'klavier': 1982, 'wahlt': 1983, 'verirrte': 1984, 'norgler': 1985, 'geschenk': 1986, 'papa': 1987, 'fuhlt': 1988, 'unterschrieben': 1989, 'verbrannte': 1990, 'rauchte': 1991, 'schwestern': 1992, 'ertrank': 1993, 'tust': 1994, 'erbrochen': 1995, 'stockbetrunken': 1996, 'hingesehen': 1997, 'dummkopfe': 1998, 'egoistisch': 1999, 'untersuch': 2000, 'pappsatt': 2001, 'dus': 2002, 'partner': 2003, 'unversehrt': 2004, 'billigt': 2005, 'versprechen': 2006, 'schauten': 2007, 'zugetragen': 2008, 'schimpfen': 2009, 'reif': 2010, 'erstarrte': 2011, 'maulte': 2012, 'bach': 2013, 'fliegende': 2014, 'untertasse': 2015, 'solls': 2016, 'nachsehen': 2017, 'feier': 2018, 'selbstverstandlich': 2019, 'ego': 2020, 'kase': 2021, 'ungarin': 2022, 'belogen': 2023, 'hielten': 2024, 'feinde': 2025, 'hingefallen': 2026, 'angefahren': 2027, 'ernahren': 2028, 'positiv': 2029, 'ubriggeblieben': 2030, 'bereits': 2031, 'jubelten': 2032, 'land': 2033, 'betrubt': 2034, 'zerbrach': 2035, 'offnete': 2036, 'umsonst': 2037, 'verneigte': 2038, 'trifft': 2039, 'religioser': 2040, 'eiferer': 2041, 'brillentrager': 2042, 'perth': 2043, 'volltanken': 2044, 'verdiene': 2045, 'weggezogen': 2046, 'daumen': 2047, 'wofur': 2048, 'geschieht': 2049, 'unzuverlassig': 2050, 'beangstigst': 2051, 'diabetikerin': 2052, 'anders': 2053, 'pilot': 2054, 'meer': 2055, 'untergliedere': 2056, 'befreundet': 2057, 'verriet': 2058, 'zumute': 2059, 'umarmten': 2060, 'bewunderte': 2061, 'behebe': 2062, 'duschen': 2063, 'verabredung': 2064, 'fluchte': 2065, 'benzin': 2066, 'wahrhaben': 2067, 'fanatiker': 2068, 'unseren': 2069, 'ubernehmt': 2070, 'seekrank': 2071, 'sanft': 2072, 'strafgefangener': 2073, 'sagtet': 2074, 'pferdchen': 2075, 'haltst': 2076, 'versagte': 2077, 'verdorben': 2078, 'abbiegen': 2079, 'zierlich': 2080, 'pfiff': 2081, 'gebrauchen': 2082, 'manches': 2083, 'schubs': 2084, 'ehefrau': 2085, 'malte': 2086, 'verehrt': 2087, 'attacke': 2088, 'widerst': 2089, 'verspreche': 2090, 'ketchup': 2091, 'saturn': 2092, 'schwitzten': 2093, 'dost': 2094, 'ausgetrickst': 2095, 'erste': 2096, 'enorm': 2097, 'vermahlt': 2098, 'verabschiedete': 2099, 'versprach': 2100, 'hochschule': 2101, 'weitergehen': 2102, 'osterreicher': 2103, 'rechtens': 2104, 'neuer': 2105, 'weck': 2106, 'anmalen': 2107, 'stuck': 2108, 'regeln': 2109, 'mordsspa': 2110, 'kauften': 2111, 'heben': 2112, 'wohne': 2113, 'motiviert': 2114, 'bemuht': 2115, 'barbarisch': 2116, 'wischen': 2117, 'fuchs': 2118, 'knie': 2119, 'abwarten': 2120, 'anfangerin': 2121, 'lieb': 2122, 'auszugehen': 2123, 'leihe': 2124, 'tests': 2125, 'gebeten': 2126, 'ausgeflippt': 2127, 'liebenswert': 2128, 'gezahlt': 2129, 'meiner': 2130, 'riefen': 2131, 'ruinierten': 2132, 'bleich': 2133, 'vergeht': 2134, 'hammertyp': 2135, 'universitat': 2136, 'aufhalten': 2137, 'geheult': 2138, 'drucken': 2139, 'unverschamt': 2140, 'zweiter': 2141, 'netztagebuch': 2142, 'niedertrachtig': 2143, 'jammert': 2144, 'hagelt': 2145, 'unsers': 2146, 'polizei': 2147, 'ertuchtigte': 2148, 'schlichtweg': 2149, 'zuhoren': 2150, 'beachtet': 2151, 'applaudierten': 2152, 'fragwurdig': 2153, 'quitt': 2154, 'stolperte': 2155, 'begonnen': 2156, 'amusierst': 2157, 'ofen': 2158, 'grinsen': 2159, 'zweimal': 2160, 'recycelst': 2161, 'grame': 2162, 'grub': 2163, 'wachter': 2164, 'unsres': 2165, 'bewegung': 2166, 'linkshander': 2167, 'beides': 2168, 'abwesend': 2169, 'verschwitzt': 2170, 'kater': 2171, 'mund': 2172, 'frucht': 2173, 'verzweifelt': 2174, 'beklagt': 2175, 'meeresfruchte': 2176, 'vorbeikommen': 2177, 'obacht': 2178, 'hieressen': 2179, 'flusterte': 2180, 'handgelenk': 2181, 'sagtest': 2182, 'nieste': 2183, 'applaudierte': 2184, 'glatzkopfig': 2185, 'unterrichte': 2186, 'schweizer': 2187, 'ausgezogen': 2188, 'genies': 2189, 'gezeigt': 2190, 'aufstandische': 2191, 'liegst': 2192, 'offensichtlich': 2193, 'kitzlig': 2194, 'aufgebracht': 2195, 'stehts': 2196, 'garantiere': 2197, 'zuruckgehalten': 2198, 'verachtet': 2199, 'belassen': 2200, 'danken': 2201, 'weitsichtig': 2202, 'zwerg': 2203, 'speist': 2204, 'waisenkind': 2205, 'botanikerin': 2206, 'amusant': 2207, 'futtert': 2208, 'klettert': 2209, 'eingeatmet': 2210, 'suppe': 2211, 'zerbrochen': 2212, 'gegahnt': 2213, 'schnappt': 2214, 'hausarrest': 2215, 'drumrum': 2216, 'fasziniert': 2217, 'gemogelt': 2218, 'drehe': 2219, 'doofkopfe': 2220, 'gestolpert': 2221, 'schaden': 2222, 'betruge': 2223, 'reggae': 2224, 'pantoffelheld': 2225, 'fruhaufsteher': 2226, 'blendend': 2227, 'online': 2228, 'schneiden': 2229, 'minderjahrig': 2230, 'unterlassen': 2231, 'handeln': 2232, 'hinauf': 2233, 'treibe': 2234, 'glucksspiel': 2235, 'wortkarg': 2236, 'schildkroten': 2237, 'inne': 2238, 'verpennt': 2239, 'nachts': 2240, 'spieler': 2241, 'fing': 2242, 'harvard': 2243, 'bluffe': 2244, 'knaben': 2245, 'uberrascht': 2246, 'boote': 2247, 'untergehen': 2248, 'laufst': 2249, 'eben': 2250, 'entschieden': 2251, 'visum': 2252, 'ersetzt': 2253, 'ublen': 2254, 'geruch': 2255, 'stockbesoffen': 2256, 'bestellen': 2257, 'schmeckt': 2258, 'kandidiert': 2259, 'ankampfen': 2260, 'mause': 2261, 'gekotzt': 2262, 'klatschen': 2263, 'puzzles': 2264, 'lehrst': 2265, 'trostet': 2266, 'moge': 2267, 'kundigten': 2268, 'wink': 2269, 'respektiere': 2270, 'magersuchtig': 2271, 'vertreter': 2272, 'hilflos': 2273, 'bauch': 2274, 'habgierig': 2275, 'merkt': 2276, 'schiee': 2277, 'rupel': 2278, 'seufzte': 2279, 'antwortete': 2280, 'mitten': 2281, 'gestohlen': 2282, 'verbrechen': 2283, 'gekocht': 2284, 'abreien': 2285, 'hinzu': 2286, 'lkw': 2287, 'strickt': 2288, 'brust': 2289, 'tiere': 2290, 'kapitulierten': 2291, 'reg': 2292, 'zornig': 2293, 'handelsvertreter': 2294, 'besitzt': 2295, 'absolut': 2296, 'bauchgefuhl': 2297, 'verliert': 2298, 'niedrig': 2299, 'reingehen': 2300, 'fortgehen': 2301, 'detailliere': 2302, 'murren': 2303, 'eintopf': 2304, 'heilige': 2305, 'zeichnen': 2306, 'entledige': 2307, 'bares': 2308, 'wahlen': 2309, 'ratsel': 2310, 'widern': 2311, 'dienst': 2312, 'starker': 2313, 'verzieht': 2314, 'verbessern': 2315, 'geschwanzt': 2316, 'entzwei': 2317, 'urlaub': 2318, 'aussichtslos': 2319, 'erzahls': 2320, 'unterbrechen': 2321, 'potzdonner': 2322, 'schlafst': 2323, 'liebst': 2324, 'tuchtig': 2325, 'neckisch': 2326, 'hilfst': 2327, 'kontrolliers': 2328, 'hintergrund': 2329, 'todmude': 2330, 'besetzt': 2331, 'beangstigen': 2332, 'sekunde': 2333, 'illegal': 2334, 'spendete': 2335, 'schwimm': 2336, 'voruber': 2337, 'raffiniert': 2338, 'nachtisch': 2339, 'zuckte': 2340, 'achseln': 2341, 'kontrollierts': 2342, 'bilden': 2343, 'wankte': 2344, 'jasager': 2345, 'ablehnen': 2346, 'bergmann': 2347, 'grinste': 2348, 'trauert': 2349, 'befinde': 2350, 'schubste': 2351, 'dicker': 2352, 'ausgerutscht': 2353, 'langweilen': 2354, 'entkamen': 2355, 'himmelt': 2356, 'hinreiend': 2357, 'aufgibt': 2358, 'mitbringen': 2359, 'bullen': 2360, 'beleidigung': 2361, 'lieder': 2362, 'faulpelz': 2363, 'erschreckte': 2364, 'verunsichert': 2365, 'hauptverkehrszeit': 2366, 'begraben': 2367, 'gehorch': 2368, 'errotete': 2369, 'gehanselt': 2370, 'besonderes': 2371, 'geneckt': 2372, 'frohliche': 2373, 'cds': 2374, 'vergnugen': 2375, 'schmoll': 2376, 'willig': 2377, 'angezogen': 2378, 'null': 2379, 'vertrauten': 2380, 'unterstutzt': 2381, 'tragen': 2382, 'feiertage': 2383, 'pandas': 2384, 'reagier': 2385, 'cola': 2386, 'bleibst': 2387, 'gelaunt': 2388, 'geil': 2389, 'bellte': 2390, 'sagenhaft': 2391, 'passierte': 2392, 'bugeln': 2393, 'notruf': 2394, 'schnitt': 2395, 'grimassen': 2396, 'schafft': 2397, 'pistolen': 2398, 'jager': 2399, 'spielfilme': 2400, 'geschnitten': 2401, 'wiederschauen': 2402, 'auseinander': 2403, 'gehackt': 2404, 'uberarbeitet': 2405, 'ex': 2406, 'gedichte': 2407, 'klassiker': 2408, 'ertrunken': 2409, 'schadel': 2410, 'hobby': 2411, 'japanerin': 2412, 'ertrinken': 2413, 'furchterlich': 2414, 'verspatete': 2415, 'aktiv': 2416, 'erstaunt': 2417, 'elegant': 2418, 'abscheulich': 2419, 'real': 2420, 'asthma': 2421, 'ipod': 2422, 'argert': 2423, 'funf': 2424, 'gestritten': 2425, 'durchgefallen': 2426, 'starrt': 2427, 'befehl': 2428, 'schwitzte': 2429, 'deutlich': 2430, 'rechtsanwalte': 2431, 'gezogert': 2432, 'erstaunlich': 2433, 'anschlieen': 2434, 'pickup': 2435, 'lama': 2436, 'japste': 2437, 'sangerin': 2438, 'finster': 2439, 'drein': 2440, 'schamt': 2441, 'kostenlos': 2442, 'spione': 2443, 'park': 2444, 'untalentiert': 2445, 'spuren': 2446, 'geklappt': 2447, 'verlie': 2448, 'lieg': 2449, 'hammer': 2450, 'vogeln': 2451, 'durchschnittlich': 2452, 'kussten': 2453, 'weihnachten': 2454, 'konzentriert': 2455, 'hebe': 2456, 'rauskommst': 2457, 'riechen': 2458, 'unterrichtest': 2459, 'verachte': 2460, 'aufgezogen': 2461, 'uberlegt': 2462, 'lasset': 2463, 'gedachtnisverlust': 2464, 'ruckendeckung': 2465, 'gewannen': 2466, 'mattscheibe': 2467, 'skorbut': 2468, 'behalts': 2469, 'applaudiert': 2470, 'crew': 2471, 'pazifist': 2472, 'bestand': 2473, 'gedachtnis': 2474, 'heimweh': 2475, 'trab': 2476, 'hingebungsvoll': 2477, 'fallt': 2478, 'behilflich': 2479, 'vollig': 2480, 'heirate': 2481, 'musikerin': 2482, 'einigermaen': 2483, 'schluchzt': 2484, 'kruppel': 2485, 'schubst': 2486, 'ehrlichkeit': 2487, 'zahlt': 2488, 'fern': 2489, 'halfen': 2490, 'treppe': 2491, 'weggelaufen': 2492, 'gewann': 2493, 'ertuchtigt': 2494, 'notizen': 2495, 'geniee': 2496, 'schnelle': 2497, 'lauferin': 2498, 'konzentrier': 2499, 'ignoriere': 2500, 'erledige': 2501, 'ausgenutzt': 2502, 'red': 2503, 'netten': 2504, 'sturzten': 2505, 'prufen': 2506, 'privatsphare': 2507, 'zahnspange': 2508, 'anstrengen': 2509, 'lachel': 2510, 'befehle': 2511, 'mannschaft': 2512, 'normalerweise': 2513, 'aussteigen': 2514, 'radelte': 2515, 'ersetze': 2516, 'ruckenschmerzen': 2517, 'betete': 2518, 'sogar': 2519, 'uberfall': 2520, 'hinuber': 2521, 'antwortet': 2522, 'zukunft': 2523, 'hochgehen': 2524, 'stimmten': 2525, 'spiegelei': 2526, 'angel': 2527, 'absicht': 2528, 'halb': 2529, 'gestatten': 2530, 'rasch': 2531, 'versteht': 2532, 'perucke': 2533, 'bellen': 2534, 'dosen': 2535, 'eilig': 2536, 'selber': 2537, 'schwarmt': 2538, 'kriege': 2539, 'hufte': 2540, 'stoisch': 2541, 'unmenschlich': 2542, 'legasthenikerin': 2543, 'abends': 2544, 'schauspieler': 2545, 'zogen': 2546, 'sitzt': 2547, 'amusiere': 2548, 'bog': 2549, 'risiken': 2550, 'fange': 2551, 'entgegen': 2552, 'soldatin': 2553, 'bescheuert': 2554, 'veraltet': 2555, 'anzeigen': 2556, 'geheilt': 2557, 'plattenaufleger': 2558, 'verhasst': 2559, 'schlagt': 2560, 'ehre': 2561, 'schliefen': 2562, 'bereite': 2563, 'melde': 2564, 'zeigte': 2565, 'viertel': 2566, 'neun': 2567, 'parteiisch': 2568, 'uhren': 2569, 'berat': 2570, 'unmoglich': 2571, 'beklagte': 2572, 'unsre': 2573, 'leugnen': 2574, 'klettere': 2575, 'teenager': 2576, 'ah': 2577, 'rutschte': 2578, 'sanger': 2579, 'wich': 2580, 'diesmal': 2581, 'wisch': 2582, 'einladen': 2583, 'bedienen': 2584, 'zuruckgetan': 2585, 'teilchen': 2586, 'herrlich': 2587, 'augenblickchen': 2588, 'gluckste': 2589, 'steckt': 2590, 'atheist': 2591, 'cnn': 2592, 'stelle': 2593, 'beleidigt': 2594, 'vergebt': 2595, 'ferien': 2596, 'loffel': 2597, 'erreicht': 2598, 'mitternacht': 2599, 'eigenbrotler': 2600, 'einig': 2601, 'statt': 2602, 'natur': 2603, 'aufzustehen': 2604, 'horten': 2605, 'gehorst': 2606, 'prag': 2607, 'grauslich': 2608, 'zubereiten': 2609, 'hols': 2610, 'knicken': 2611, 'staubt': 2612, 'langweilte': 2613, 'pfeifen': 2614, 'schnurren': 2615, 'tiger': 2616, 'beruf': 2617, 'preis': 2618, 'stieg': 2619, 'angeschrieben': 2620, 'fies': 2621, 'brille': 2622, 'fielen': 2623, 'fuhl': 2624, 'holle': 2625, 'unterstutzen': 2626, 'bedankte': 2627, 'erbarmlich': 2628, 'gedauert': 2629, 'zieht': 2630, 'verliere': 2631, 'rache': 2632, 'gaste': 2633, 'nachschauen': 2634, 'zuchtete': 2635, 'rosen': 2636, 'nahte': 2637, 'schinken': 2638, 'gang': 2639, 'betrugen': 2640, 'geknuddelt': 2641, 'gepflegt': 2642, 'bohnen': 2643, 'genugen': 2644, 'mogelt': 2645, 'weichei': 2646, 'kunstlerisch': 2647, 'veranlagt': 2648, 'verschlief': 2649, 'denken': 2650, 'unterhalte': 2651, 'entledigen': 2652, 'spul': 2653, 'jazzmusik': 2654, 'zugesehen': 2655, 'ohne': 2656, 'kusse': 2657, 'schallplattenunterhalter': 2658, 'dummen': 2659, 'fehler': 2660, 'buchstabier': 2661, 'durchfallen': 2662, 'aufstandischer': 2663, 'leugnest': 2664, 'bruder': 2665, 'romantisch': 2666, 'hebt': 2667, 'nesselsucht': 2668, 'schwachling': 2669, 'deinetwegen': 2670, 'beschwipst': 2671, 'versuche': 2672, 'abgefahren': 2673, 'groere': 2674, 'absurd': 2675, 'vorgemacht': 2676, 'besteht': 2677, 'geblinzelt': 2678, 'porzellankiste': 2679, 'schlage': 2680, 'weigern': 2681, 'furchtet': 2682, 'dach': 2683, 'leckt': 2684, 'meldete': 2685, 'hinten': 2686, 'verschuldet': 2687, 'exknacki': 2688, 'nahen': 2689, 'untrostlich': 2690, 'depressiv': 2691, 'flennte': 2692, 'kummer': 2693, 'umbringen': 2694, 'entscheidung': 2695, 'herzlichen': 2696, 'gluckwunsch': 2697, 'geburtstag': 2698, 'merken': 2699, 'geschmacker': 2700, 'verschieden': 2701, 'imbiss': 2702, 'sonnenuntergange': 2703, 'selbstverstandlichkeit': 2704, 'beschreibe': 2705, 'hilfreich': 2706, 'starr': 2707, 'hinlegen': 2708, 'schreibtisch': 2709, 'prazise': 2710, 'versprechs': 2711, 'meldeten': 2712, 'wehtun': 2713, 'zuge': 2714, 'scherte': 2715, 'karaoke': 2716, 'gefuhllos': 2717, 'taten': 2718, 'empfindlich': 2719, 'krone': 2720, 'welcher': 2721, 'lastwagen': 2722, 'wahlerisch': 2723, 'rannten': 2724, 'deprimiert': 2725, 'gefalscht': 2726, 'zitterte': 2727, 'arrogant': 2728, 'verzisch': 2729, 'dreihundert': 2730, 'schulerin': 2731, 'geschnarcht': 2732, 'musiker': 2733, 'erschrocken': 2734, 'ubergewicht': 2735, 'schinden': 2736, 'paddel': 2737, 'dringlich': 2738, 'bildet': 2739, 'beisammen': 2740, 'kirche': 2741, 'hassten': 2742, 'unterbrochen': 2743, 'achtzig': 2744, 'verzog': 2745, 'vorausschauend': 2746, 'durchtrieben': 2747, 'melden': 2748, 'bademantel': 2749, 'sieben': 2750, 'funfundvierzig': 2751, 'kontakt': 2752, 'bekenne': 2753, 'lugnerin': 2754, 'gehorchte': 2755, 'belieben': 2756, 'druben': 2757, 'ubersteigt': 2758, 'horizont': 2759, 'ausbrechen': 2760, 'araber': 2761, 'beruhrend': 2762, 'erteil': 2763, 'wunsche': 2764, 'meckern': 2765, 'skatet': 2766, 'heulte': 2767, 'herbeigewunken': 2768, 'spendeten': 2769, 'reh': 2770, 'ungar': 2771, 'zutritt': 2772, 'draus': 2773, 'blickten': 2774, 'patientin': 2775, 'angestrengt': 2776, 'verspaten': 2777, 'tuts': 2778, 'schnappchen': 2779, 'schi': 2780, 'nimms': 2781, 'satz': 2782, 'zusehen': 2783, 'oberflachlich': 2784, 'verlierst': 2785, 'buckte': 2786, 'backen': 2787, 'hundewelpen': 2788, 'schneidet': 2789, 'tourist': 2790, 'troste': 2791, 'heien': 2792, 'naherte': 2793, 'versteck': 2794, 'schusse': 2795, 'furs': 2796, 'nacken': 2797, 'freut': 2798, 'korrekt': 2799, 'mull': 2800, 'eltern': 2801, 'wurgen': 2802, 'geldautomaten': 2803, 'abschluss': 2804, 'neutral': 2805, 'geschichten': 2806, 'beruhrt': 2807, 'betreibst': 2808, 'gluckliches': 2809, 'albern': 2810, 'lachelten': 2811, 'treuherzig': 2812, 'ersetzen': 2813, 'verkaufer': 2814, 'gesetzloser': 2815, 'wandern': 2816, 'gesellen': 2817, 'rettet': 2818, 'zusammenbleiben': 2819, 'ausgeschieden': 2820, 'eisen': 2821, 'runzelte': 2822, 'stirn': 2823, 'schummeln': 2824, 'verstehst': 2825, 'doof': 2826, 'stocken': 2827, 'kniff': 2828, 'brauchte': 2829, 'spaziergang': 2830, 'hulf': 2831, 'gestanden': 2832, 'schnupfen': 2833, 'renn': 2834, 'dachschaden': 2835, 'thomas': 2836, 'vergingen': 2837, 'thunfisch': 2838, 'argern': 2839, 'tauscht': 2840, 'spinne': 2841, 'nackenschmerzen': 2842, 'verletzen': 2843, 'eifrig': 2844, 'erschieen': 2845, 'verwohnt': 2846, 'gestochen': 2847, 'argere': 2848, 'drachen': 2849, 'betreiben': 2850, 'wachmann': 2851, 'verhandeln': 2852, 'foto': 2853, 'gebeichtet': 2854, 'jubelte': 2855, 'beschaftige': 2856, 'unbewegt': 2857, 'sellerie': 2858, 'aufgeschlossen': 2859, 'entschlossen': 2860, 'ausgerastet': 2861, 'klettern': 2862, 'stinkreich': 2863, 'gegraben': 2864, 'richte': 2865, 'zeigts': 2866, 'irrst': 2867, 'spinnen': 2868, 'unheimlich': 2869, 'skateboard': 2870, 'pragen': 2871, 'sprache': 2872, 'heiratete': 2873, 'entsperr': 2874, 'beruhigt': 2875, 'zeug': 2876, 'dvd': 2877, 'ruhelos': 2878, 'tomaten': 2879, 'erlaube': 2880, 'leb': 2881, 'sinnlos': 2882, 'motorradfahrer': 2883, 'enspann': 2884, 'tausche': 2885, 'bereiten': 2886, 'bluhen': 2887, 'voraus': 2888, 'suchtiger': 2889, 'aufgegossen': 2890, 'test': 2891, 'ungezogen': 2892, 'wild': 2893, 'kamele': 2894, 'bedien': 2895, 'flau': 2896, 'fuen': 2897, 'folgt': 2898, 'schwierigkeiten': 2899, 'zuschieben': 2900, 'akne': 2901, 'rat': 2902, 'gerissen': 2903, 'idol': 2904, 'erteilt': 2905, 'zuruckgehen': 2906, 'erwartet': 2907, 'wunderschon': 2908, 'sitz': 2909, 'zeitig': 2910, 'besen': 2911, 'reinigen': 2912, 'gesellte': 2913, 'faktum': 2914, 'schulde': 2915, 'geraucht': 2916, 'wasche': 2917, 'recycelt': 2918, 'hinaus': 2919, 'fahrst': 2920, 'betrublich': 2921, 'nebel': 2922, 'tollpatsch': 2923, 'friere': 2924, 'beste': 2925, 'koste': 2926, 'autor': 2927, 'prufe': 2928, 'offizier': 2929, 'achtzehn': 2930, 'kostlich': 2931, 'scheitern': 2932, 'eingelenkt': 2933, 'zulassen': 2934, 'rauchst': 2935, 'saschimi': 2936, 'steigt': 2937, 'vorzeitig': 2938, 'geweckt': 2939, 'vielschichtig': 2940, 'lebendig': 2941, 'aufdringlich': 2942, 'fit': 2943, 'beangstigend': 2944, 'kuhl': 2945, 'freute': 2946, 'hamisch': 2947, 'bosartig': 2948, 'halbiere': 2949, 'aufgeregt': 2950, 'weigerten': 2951, 'onkel': 2952, 'geb': 2953, 'eintritt': 2954, 'funfzig': 2955, 'yen': 2956, 'verantwortlich': 2957, 'steig': 2958, 'gehalten': 2959, 'wunsch': 2960, 'harre': 2961, 'drehte': 2962, 'aufhort': 2963, 'stottert': 2964, 'tulpen': 2965, 'gutes': 2966, 'timing': 2967, 'zeitarbeiter': 2968, 'zielt': 2969, 'angle': 2970, 'schmecken': 2971, 'unbeholfen': 2972, 'welches': 2973, 'hinfahren': 2974, 'steuern': 2975, 'keinster': 2976, 'hinterher': 2977, 'leih': 2978, 'helfende': 2979, 'schach': 2980, 'ubrig': 2981, 'pilz': 2982, 'kenntnis': 2983, 'gesetzt': 2984, 'geeignet': 2985, 'verpetzt': 2986, 'siehe': 2987, 'drecksloch': 2988, 'protestierte': 2989, 'heb': 2990, 'runterkommen': 2991, 'zittert': 2992, 'horig': 2993, 'schamen': 2994, 'verabscheute': 2995, 'tragt': 2996, 'beschwer': 2997, 'intensiv': 2998, 'hasts': 2999, 'bereiteten': 3000, 'begreifen': 3001, 'passen': 3002, 'wartete': 3003, 'frohes': 3004, 'brullte': 3005, 'blutarmut': 3006, 'abgestimmt': 3007, 'runden': 3008, 'botaniker': 3009, 'niedlich': 3010, 'gefuttert': 3011, 'abstimmen': 3012, 'witzelt': 3013, 'unsrer': 3014, 'banane': 3015, 'briefmarken': 3016, 'zirkus': 3017, 'gebraucht': 3018, 'ratten': 3019, 'stie': 3020, 'charme': 3021, 'nah': 3022, 'papier': 3023, 'misch': 3024, 'golf': 3025, 'baute': 3026, 'unwahrscheinlich': 3027, 'twitter': 3028, 'beeindruckt': 3029, 'mahjong': 3030, 'wahle': 3031, 'aen': 3032, 'glotzen': 3033, 'ausrufen': 3034, 'regiert': 3035, 'welt': 3036, 'kapierst': 3037, 'fettleibig': 3038, 'rulpse': 3039, 'farbe': 3040, 'ideal': 3041, 'gefoltert': 3042, 'winkte': 3043, 'unterschreib': 3044, 'schulden': 3045, 'liebevoll': 3046, 'franzosischunterricht': 3047, 'ausatmen': 3048, 'tippt': 3049, 'pflanze': 3050, 'greifen': 3051, 'rasteten': 3052, 'verspatet': 3053, 'anzugeben': 3054, 'stinkig': 3055, 'setzt': 3056, 'ruppig': 3057, 'zahnarztin': 3058, 'rabbi': 3059, 'holt': 3060, 'wohnt': 3061, 'trosten': 3062, 'besitze': 3063, 'pfiffig': 3064, 'spieer': 3065, 'schamte': 3066, 'gefallst': 3067, 'gepack': 3068, 'japan': 3069, 'frostig': 3070, 'verbessert': 3071, 'sternhagelvoll': 3072, 'trinker': 3073, 'hinsetzen': 3074, 'hohe': 3075, 'muhelos': 3076, 'getrunkten': 3077, 'geister': 3078, 'existieren': 3079, 'stuhl': 3080, 'erstickt': 3081, 'schlank': 3082, 'mahjongg': 3083, 'verlierer': 3084, 'kahl': 3085, 'kleber': 3086, 'dazusetzen': 3087, 'glaubte': 3088, 'unhandlich': 3089, 'sexy': 3090, 'lastig': 3091, 'futtere': 3092, 'einige': 3093, 'lasagne': 3094, 'helden': 3095, 'sachte': 3096, 'mogeln': 3097, 'mandeln': 3098, 'recyceln': 3099, 'soeben': 3100, 'geschaft': 3101, 'jesuit': 3102, 'segne': 3103, 'treu': 3104, 'betreibt': 3105, 'malt': 3106, 'eklig': 3107, 'bewundernswert': 3108, 'schie': 3109, 'tanzte': 3110, 'siebzehn': 3111, 'zuverlassig': 3112, 'nachprufen': 3113, 'eurem': 3114, 'hinterhalt': 3115, 'stinkt': 3116, 'krankenpflegerin': 3117, 'greif': 3118, 'spure': 3119, 'beharrte': 3120, 'auswendig': 3121, 'lasse': 3122, 'tretet': 3123, 'hinterlistig': 3124, 'konntet': 3125, 'zusammengebrochen': 3126, 'bewegte': 3127, 'streitet': 3128, 'entferne': 3129, 'eilt': 3130, 'bewolkt': 3131, 'tagebuch': 3132, 'verabschiede': 3133, 'anderte': 3134, 'eures': 3135, 'gezwickt': 3136, 'veranlasst': 3137, 'sputen': 3138, 'druckte': 3139, 'traue': 3140, 'keinem': 3141, 'uberlasse': 3142, 'einziehen': 3143, 'stinkst': 3144, 'weier': 3145, 'anscheinend': 3146, 'gelahmt': 3147, 'strafgefangene': 3148, 'genarrt': 3149, 'wissenschaft': 3150, 'merk': 3151, 'fieber': 3152, 'zuchte': 3153, 'vieh': 3154, 'glas': 3155, 'enspannt': 3156, 'beachtete': 3157, 'erblasste': 3158, 'angesagt': 3159, 'platten': 3160, 'baum': 3161, 'hetz': 3162, 'konntest': 3163, 'erzahle': 3164, 'eingebrochen': 3165, 'studenten': 3166, 'ford': 3167, 'kummerts': 3168, 'passieren': 3169, 'diene': 3170, 'deinem': 3171, 'stau': 3172, 'liege': 3173, 'erwarten': 3174, 'franzosische': 3175, 'unbeeindruckt': 3176, 'brauchten': 3177, 'suigkeit': 3178, 'handele': 3179, 'angetrunken': 3180, 'umarmung': 3181, 'geschichte': 3182, 'chinesin': 3183, 'beiden': 3184, 'derjenige': 3185, 'motzte': 3186, 'nickt': 3187, 'ruhen': 3188, 'tanz': 3189, 'uberzeugt': 3190, 'dazwischengehen': 3191, 'prima': 3192, 'gefiele': 3193, 'schmeck': 3194, 'brannte': 3195, 'wortspiel': 3196, 'mist': 3197, 'ausgeschlossen': 3198, 'lest': 3199, 'nerv': 3200, 'gefangene': 3201, 'gedacht': 3202, 'viele': 3203, 'starben': 3204, 'griesgram': 3205, 'erinnerte': 3206, 'samurai': 3207, 'glocke': 3208, 'lautete': 3209, 'inkorrekt': 3210, 'dageblieben': 3211, 'stern': 3212, 'modeerscheinung': 3213, 'ubers': 3214, 'geschamt': 3215, 'gras': 3216, 'ubersinnlich': 3217, 'austern': 3218, 'analphabet': 3219, 'kauf': 3220, 'werfen': 3221, 'fassung': 3222, 'bestimmst': 3223, 'blute': 3224, 'bezahlten': 3225, 'camion': 3226, 'zynisch': 3227, 'respektiert': 3228, 'beigetragen': 3229, 'veteran': 3230, 'schaust': 3231, 'lehnte': 3232, 'beliebst': 3233, 'amerikanerin': 3234, 'schrieb': 3235, 'melodie': 3236, 'blauaugig': 3237, 'nusse': 3238, 'gutgehen': 3239, 'netz': 3240, 'ernstes': 3241, 'popcorn': 3242, 'langweilt': 3243, 'weggegangen': 3244, 'taktvoll': 3245, 'gejubelt': 3246, 'grippe': 3247, 'feg': 3248, 'atmete': 3249, 'anruf': 3250, 'ungeduldig': 3251, 'harmlos': 3252, 'geoffnet': 3253, 'erbaut': 3254, 'feuerwehrmann': 3255, 'einflussreich': 3256, 'argerte': 3257, 'vollgegessen': 3258, 'grote': 3259, 'grab': 3260, 'zusammengeschlagen': 3261, 'verwendung': 3262, 'kaue': 3263, 'kaugummi': 3264, 'turm': 3265, 'mollig': 3266, 'skeptisch': 3267, 'fortgeschickt': 3268, 'hinters': 3269, 'licht': 3270, 'stell': 3271, 'langweile': 3272, 'unterschreibe': 3273, 'haken': 3274, 'tante': 3275, 'herbeigewinkt': 3276, 'schadlich': 3277, 'erblindet': 3278, 'sperrig': 3279, 'violine': 3280, 'ohren': 3281, 'schiech': 3282, 'gewinner': 3283, 'bissiger': 3284, 'stozeit': 3285, 'wut': 3286, 'uberleg': 3287, 'sportler': 3288, 'bestens': 3289, 'versuchte': 3290, 'vorangehen': 3291, 'leider': 3292, 'leide': 3293, 'uberaus': 3294, 'team': 3295, 'freundinnen': 3296, 'kreis': 3297, 'trauen': 3298, 'gesiegt': 3299, 'verabschiedet': 3300, 'gebuhr': 3301, 'leitung': 3302, 'hirsch': 3303, 'gahnt': 3304, 'analphabetin': 3305, 'schmeichelst': 3306, 'brandneu': 3307, 'zuversichtlich': 3308, 'erwurgt': 3309, 'behalte': 3310, 'blutet': 3311, 'herbeigefuhrt': 3312, 'larm': 3313, 'gefugt': 3314, 'zigarette': 3315, 'nachrichten': 3316, 'beginne': 3317, 'wolf': 3318, 'preise': 3319, 'gestiegen': 3320, 'beit': 3321, 'gesturzt': 3322, 'schwimmbecken': 3323, 'anwalt': 3324, 'typisch': 3325, 'vorubergehende': 3326, 'laune': 3327, 'nannte': 3328, 'ergebe': 3329, 'briefmarke': 3330, 'verfallen': 3331, 'zauberhaft': 3332, 'gerucht': 3333, 'ignorieren': 3334, 'pony': 3335, 'erholten': 3336, 'abgelehnt': 3337, 'heulen': 3338, 'schnuffeln': 3339, 'uberflussig': 3340, 'kapier': 3341, 'kampfe': 3342, 'schande': 3343, 'furchtlos': 3344, 'umgeschrieben': 3345, 'scheints': 3346, 'ledig': 3347, 'lautet': 3348, 'hauptgeschaftszeit': 3349, 'kredit': 3350, 'englisch': 3351, 'befangen': 3352, 'trete': 3353, 'kampfte': 3354, 'ventilator': 3355, 'rauskommt': 3356, 'nudeln': 3357, 'siegten': 3358, 'entspannte': 3359, 'werkzeug': 3360, 'immun': 3361, 'verlust': 3362, 'zogert': 3363, 'stehenbleiben': 3364, 'meckerfritze': 3365, 'merkwurdig': 3366, 'erfordert': 3367, 'reinige': 3368, 'ihrs': 3369, 'saen': 3370, 'vernommen': 3371, 'gefressen': 3372, 'veranderte': 3373, 'nutzt': 3374, 'verschwindet': 3375, 'jesus': 3376, 'liegen': 3377, 'warne': 3378, 'nachgeschaut': 3379, 'rausgehen': 3380, 'geige': 3381, 'beliebige': 3382, 'lowen': 3383, 'eigenartig': 3384, 'machbar': 3385, 'herausbekommen': 3386, 'kleinen': 3387, 'handelt': 3388, 'klappen': 3389, 'gift': 3390, 'ansicht': 3391, 'verstarkung': 3392, 'ungelenk': 3393, 'pummel': 3394, 'optimistisch': 3395, 'keucht': 3396, 'gelaufen': 3397, 'feiges': 3398, 'bohnere': 3399, 'fuboden': 3400, 'verstort': 3401, 'ewig': 3402, 'gedanke': 3403, 'polizist': 3404, 'zeichnet': 3405, 'begreift': 3406, 'abfuhren': 3407, 'unterhalten': 3408, 'gesteinigt': 3409, 'freier': 3410, 'chinese': 3411, 'falsche': 3412, 'hoffnungen': 3413, 'gebacken': 3414, 'begreifst': 3415, 'tier': 3416, 'braut': 3417, 'dr': 3418, 'phil': 3419, 'verschwanden': 3420, 'tatenlos': 3421, 'werft': 3422, 'gebrechlich': 3423, 'streit': 3424, 'murrte': 3425, 'entsperrt': 3426, 'mitgebracht': 3427, 'sonne': 3428, 'pazifistin': 3429, 'erhob': 3430, 'einspruch': 3431, 'bein': 3432, 'gebrochen': 3433, 'schummelt': 3434, 'nieder': 3435, 'zwangserkrankung': 3436, 'ruhrt': 3437, 'beichtete': 3438, 'angeheuert': 3439, 'unterwegs': 3440, 'radfahrer': 3441, 'mythos': 3442, 'autist': 3443, 'fuhren': 3444, 'dreizehn': 3445, 'benimm': 3446, 'ausgehen': 3447, 'rente': 3448, 'laster': 3449, 'tod': 3450, 'gehorlos': 3451, 'heit': 3452, 'erfahren': 3453, 'schlicht': 3454, 'schuchterner': 3455, 'mittellos': 3456, 'brannten': 3457, 'schluckauf': 3458, 'endlich': 3459, 'erwachsen': 3460, 'innen': 3461, 'glanzt': 3462, 'sohne': 3463, 'schlummert': 3464, 'schwammen': 3465, 'paar': 3466, 'karotten': 3467, 'verklagt': 3468, 'sorge': 3469, 'paddeln': 3470, 'weilchen': 3471, 'anwerben': 3472, 'gru': 3473, 'fledermaus': 3474, 'ertrinke': 3475, 'pragt': 3476, 'erbarmen': 3477, 'konzentrieren': 3478, 'oh': 3479, 'schmeckts': 3480, 'gesetzlich': 3481, 'freigeschaltet': 3482, 'entspannten': 3483, 'lernst': 3484, 'kluger': 3485, 'bauernhof': 3486, 'handige': 3487, 'kundigen': 3488, 'neuen': 3489, 'unterstutzung': 3490, 'grimassierte': 3491, 'schreibs': 3492, 'montage': 3493, 'kuck': 3494, 'geschmeichelt': 3495, 'geklatscht': 3496, 'tragisch': 3497, 'skaten': 3498, 'gefahren': 3499, 'fleischhauer': 3500, 'zahnarzt': 3501, 'faste': 3502, 'werdens': 3503, 'madels': 3504, 'schlechtes': 3505, 'gewissen': 3506, 'mittwoch': 3507, 'asiaten': 3508, 'unserer': 3509, 'mitkommen': 3510, 'defekt': 3511, 'nachgegeben': 3512, 'glauben': 3513, 'druckst': 3514, 'schroff': 3515, 'bezaubernd': 3516, 'operiert': 3517, 'ihrem': 3518, 'schaffte': 3519, 'realistisch': 3520, 'kaviar': 3521, 'ring': 3522, 'netter': 3523, 'erteilen': 3524, 'erhitzt': 3525}\n"
          ],
          "name": "stdout"
        }
      ]
    },
    {
      "cell_type": "code",
      "metadata": {
        "id": "SGDrdQnODKIc",
        "colab_type": "code",
        "colab": {}
      },
      "source": [
        "# finidng the max len of a seq in a langauge\n",
        "def max_len(lang_data):\n",
        "    return max([len(line.split()) for line in lang_data])\n"
      ],
      "execution_count": 0,
      "outputs": []
    },
    {
      "cell_type": "code",
      "metadata": {
        "id": "-cSYIuyRDtT5",
        "colab_type": "code",
        "outputId": "b0f5072c-e9a2-4820-83b1-ba2ea38dc0b6",
        "colab": {
          "base_uri": "https://localhost:8080/",
          "height": 54
        }
      },
      "source": [
        "# max len of both eng and ger\n",
        "eng_len = max_len(dataset[:, 0])\n",
        "ger_len = max_len(dataset[:, 1])\n",
        "\n",
        "print(eng_len, ger_len, sep = \"\\n\")"
      ],
      "execution_count": 0,
      "outputs": [
        {
          "output_type": "stream",
          "text": [
            "5\n",
            "9\n"
          ],
          "name": "stdout"
        }
      ]
    },
    {
      "cell_type": "code",
      "metadata": {
        "id": "K-FN7m3oEz9P",
        "colab_type": "code",
        "outputId": "12cb605f-4c2f-4f18-a312-e3524a439aa7",
        "colab": {
          "base_uri": "https://localhost:8080/",
          "height": 54
        }
      },
      "source": [
        "# finding the no of elems in each lang's vocab\n",
        "eng_vocab_size = len(eng_tokenizer.word_counts) + 1\n",
        "print(eng_vocab_size)\n",
        "ger_vocab_size = len(ger_tokenizer.word_counts) + 1\n",
        "print(ger_vocab_size) "
      ],
      "execution_count": 0,
      "outputs": [
        {
          "output_type": "stream",
          "text": [
            "2214\n",
            "3526\n"
          ],
          "name": "stdout"
        }
      ]
    },
    {
      "cell_type": "markdown",
      "metadata": {
        "id": "UZTH7UBGHg4W",
        "colab_type": "text"
      },
      "source": [
        "Each input and output sequence must be encoded to integers\n",
        " and padded to the maximum phrase length"
      ]
    },
    {
      "cell_type": "code",
      "metadata": {
        "id": "HSaW8EhtIzT4",
        "colab_type": "code",
        "colab": {}
      },
      "source": [
        "from tensorflow.keras.preprocessing.sequence import pad_sequences"
      ],
      "execution_count": 0,
      "outputs": []
    },
    {
      "cell_type": "code",
      "metadata": {
        "id": "PiyFNWqoFfES",
        "colab_type": "code",
        "outputId": "ea4b4772-7da4-4928-9d88-81ff3654c75a",
        "colab": {
          "base_uri": "https://localhost:8080/",
          "height": 72
        }
      },
      "source": [
        "# preparing the encodings \n",
        "x = ger_tokenizer.texts_to_sequences(dataset[:, 1])\n",
        "print(dataset[0, 1]) # first line in ger\n",
        "print(x[0]) # relevant encoding before pad\n",
        "\n",
        "# padding each sentance(samples) with zeros to max len\n",
        "x = pad_sequences(x, maxlen = ger_len, padding= \"post\")\n",
        "print(x[0])"
      ],
      "execution_count": 0,
      "outputs": [
        {
          "output_type": "stream",
          "text": [
            "ich bin wieder zuhause\n",
            "[1, 7, 147, 266]\n",
            "[  1   7 147 266   0   0   0   0   0]\n"
          ],
          "name": "stdout"
        }
      ]
    },
    {
      "cell_type": "code",
      "metadata": {
        "id": "36NqlEXBIUn5",
        "colab_type": "code",
        "colab": {}
      },
      "source": [
        "def encode_seq(tokenizer, lang_data, lang_len):\n",
        "    x = tokenizer.texts_to_sequences(lang_data)\n",
        "    x = pad_sequences(x, maxlen = lang_len, padding = \"post\")\n",
        "    return x"
      ],
      "execution_count": 0,
      "outputs": []
    },
    {
      "cell_type": "code",
      "metadata": {
        "id": "oYh-8O8DKfVT",
        "colab_type": "code",
        "colab": {}
      },
      "source": [
        "# creating encodings for both training and test data\n",
        "\"\"\" x --> german\n",
        "    y --> english \"\"\"\n",
        "\n",
        "train_x = encode_seq(ger_tokenizer, train_data[:, 1], ger_len)\n",
        "train_y = encode_seq(eng_tokenizer, train_data[:, 0], eng_len)\n",
        "\n",
        "test_x = encode_seq(ger_tokenizer, test_data[:, 1], ger_len)\n",
        "test_y = encode_seq(eng_tokenizer, test_data[:, 0], eng_len)"
      ],
      "execution_count": 0,
      "outputs": []
    },
    {
      "cell_type": "code",
      "metadata": {
        "id": "xWZ6H3v5LXyk",
        "colab_type": "code",
        "outputId": "84dd00c5-f325-485e-b5aa-3fd8702f6581",
        "colab": {
          "base_uri": "https://localhost:8080/",
          "height": 72
        }
      },
      "source": [
        "train_x[:3] # checking the encodings and pads"
      ],
      "execution_count": 0,
      "outputs": [
        {
          "output_type": "execute_result",
          "data": {
            "text/plain": [
              "array([[  1,   7, 147, 266,   0,   0,   0,   0,   0],\n",
              "       [249, 250,   0,   0,   0,   0,   0,   0,   0],\n",
              "       [ 12, 198, 166,  16,  64,   0,   0,   0,   0]], dtype=int32)"
            ]
          },
          "metadata": {
            "tags": []
          },
          "execution_count": 38
        }
      ]
    },
    {
      "cell_type": "code",
      "metadata": {
        "id": "ROFIZc7oOIhB",
        "colab_type": "code",
        "colab": {}
      },
      "source": [
        "from tensorflow.keras.utils import to_categorical"
      ],
      "execution_count": 0,
      "outputs": []
    },
    {
      "cell_type": "code",
      "metadata": {
        "id": "fiGytdMNLicl",
        "colab_type": "code",
        "outputId": "141cef76-db16-4c93-edba-bfc1cd49999c",
        "colab": {
          "base_uri": "https://localhost:8080/",
          "height": 165
        }
      },
      "source": [
        "# now for one hot encoding all the words in english\n",
        "y_list = []\n",
        "for sample in train_y:\n",
        "    print(sample)\n",
        "    print(to_categorical(sample, num_classes = eng_vocab_size))\n",
        "    break\n",
        "\n",
        "\"\"\" shape of encodings :\n",
        "    axis[0] --> rows = 5 (max no of words in a sample for eng)\n",
        "    axis[1] --> cols = vocab size (the tot no of words in that lang) \"\"\""
      ],
      "execution_count": 0,
      "outputs": [
        {
          "output_type": "stream",
          "text": [
            "[ 7 88 49  0  0]\n",
            "[[0. 0. 0. ... 0. 0. 0.]\n",
            " [0. 0. 0. ... 0. 0. 0.]\n",
            " [0. 0. 0. ... 0. 0. 0.]\n",
            " [1. 0. 0. ... 0. 0. 0.]\n",
            " [1. 0. 0. ... 0. 0. 0.]]\n"
          ],
          "name": "stdout"
        },
        {
          "output_type": "execute_result",
          "data": {
            "text/plain": [
              "' shape of encodings :\\n    axis[0] --> rows = 5 (max no of words in a sample for eng)\\n    axis[1] --> cols = vocab size (the tot no of words in that lang)'"
            ]
          },
          "metadata": {
            "tags": []
          },
          "execution_count": 40
        }
      ]
    },
    {
      "cell_type": "code",
      "metadata": {
        "id": "XQVenJy8OwEq",
        "colab_type": "code",
        "outputId": "35efb68d-b9c8-4074-ff3b-6c21faabe10b",
        "colab": {
          "base_uri": "https://localhost:8080/",
          "height": 35
        }
      },
      "source": [
        "train_y.shape"
      ],
      "execution_count": 0,
      "outputs": [
        {
          "output_type": "execute_result",
          "data": {
            "text/plain": [
              "(9000, 5)"
            ]
          },
          "metadata": {
            "tags": []
          },
          "execution_count": 41
        }
      ]
    },
    {
      "cell_type": "code",
      "metadata": {
        "id": "EovClBYsPJpq",
        "colab_type": "code",
        "colab": {}
      },
      "source": [
        "def encode_op(label_data, vocab_size):\n",
        "    y_list = []\n",
        "    for sample in label_data:\n",
        "        encoded = to_categorical(sample, num_classes= vocab_size)\n",
        "        y_list.append(encoded)\n",
        "    y = np.array(y_list)\n",
        "    y = y.reshape(label_data.shape[0], label_data.shape[1], vocab_size)\n",
        "    return y"
      ],
      "execution_count": 0,
      "outputs": []
    },
    {
      "cell_type": "code",
      "metadata": {
        "id": "HEnI-VeuQdgZ",
        "colab_type": "code",
        "outputId": "4561eac8-ec52-4156-ecbf-5dd1c7ecfdeb",
        "colab": {
          "base_uri": "https://localhost:8080/",
          "height": 54
        }
      },
      "source": [
        "train_y_one_h = encode_op(train_y, eng_vocab_size)\n",
        "print(train_y_one_h.shape)\n",
        "\n",
        "test_y_one_h = encode_op(test_y, eng_vocab_size)\n",
        "print(test_y_one_h.shape)"
      ],
      "execution_count": 0,
      "outputs": [
        {
          "output_type": "stream",
          "text": [
            "(9000, 5, 2214)\n",
            "(1000, 5, 2214)\n"
          ],
          "name": "stdout"
        }
      ]
    },
    {
      "cell_type": "markdown",
      "metadata": {
        "id": "UPt2vS_LaJnw",
        "colab_type": "text"
      },
      "source": [
        "### Building the encoder - decoder model\n",
        "\n",
        "\n",
        "[learning about tensor shapes as input and output to an rnn](https://medium.com/@shivajbd/understanding-input-and-output-shape-in-lstm-keras-c501ee95c65e)\n"
      ]
    },
    {
      "cell_type": "code",
      "metadata": {
        "id": "lgeNwARDbUAZ",
        "colab_type": "code",
        "colab": {}
      },
      "source": [
        "from tensorflow.keras.layers import Embedding, Input\n",
        "from tensorflow.keras.layers import LSTM\n",
        "from tensorflow.keras.layers import RepeatVector\n",
        "from tensorflow.keras.layers import Dense\n",
        "from tensorflow.keras.layers import TimeDistributed\n",
        "from tensorflow.keras.callbacks import ModelCheckpoint\n",
        "from tensorflow.keras.utils import plot_model\n",
        "from tensorflow.keras.models import Sequential, Model"
      ],
      "execution_count": 0,
      "outputs": []
    },
    {
      "cell_type": "markdown",
      "metadata": {
        "id": "rt3TXTtGgD47",
        "colab_type": "text"
      },
      "source": [
        "#### Layers and functions\n",
        "\n",
        "```\n",
        "feature_units = 256 \n",
        "# the no of features assigned for a single word in the emb\n",
        "input_shape = (ger_len, feature_units)\n",
        "# (timestep/ seq len, features)\n",
        "\n",
        "\n",
        "emb = Embedding(input_dim = ger_vocab_size, output_dim = feature_units,\n",
        "              mask_zero = True, input_length = ger_len)\n",
        "inputs = Input(shape = input_shape)\n",
        "x = LSTM(units = feature_units)(inputs)\n",
        "# units is the arg that gives\n",
        "# the no of features given out by lstm\n",
        "x = RepeatVector(n = eng_len)(x) \n",
        "# repeats the input for eng timesteps\n",
        "# ie, eng's no of words in a seq\n",
        "x = LSTM(units = feature_units, return_sequences = True)(x)\n",
        "x = TimeDistributed(Dense(eng_vocab_size, activation = \"softmax\"))(x)\n",
        "# returns a softmax emb of size = eng_vocab\n",
        "\n",
        "translator = Model(inputs = inputs, outputs = x)\n",
        "translator.summary()\n",
        "```\n",
        "\n"
      ]
    },
    {
      "cell_type": "code",
      "metadata": {
        "id": "5RZwo7_ym3Aq",
        "colab_type": "code",
        "colab": {}
      },
      "source": [
        "def define_model(src_vocab, tar_vocab, src_timesteps, tar_timesteps, n_units):\n",
        "\tmodel = Sequential()\n",
        "\tmodel.add(Embedding(src_vocab, n_units, input_length=src_timesteps, mask_zero=True))\n",
        "\tmodel.add(LSTM(n_units))\n",
        "\tmodel.add(RepeatVector(tar_timesteps))\n",
        "\tmodel.add(LSTM(n_units, return_sequences=True))\n",
        "\tmodel.add(TimeDistributed(Dense(tar_vocab, activation='softmax')))\n",
        "\treturn model"
      ],
      "execution_count": 0,
      "outputs": []
    },
    {
      "cell_type": "code",
      "metadata": {
        "id": "3-i-sC1VpxV0",
        "colab_type": "code",
        "outputId": "a5e2cf4e-099b-4af0-bfee-ab81f35a9a4c",
        "colab": {
          "base_uri": "https://localhost:8080/",
          "height": 345
        }
      },
      "source": [
        "model = define_model(ger_vocab_size, eng_vocab_size, \n",
        "                     ger_len, eng_len, 256)\n",
        "model.compile(loss = \"categorical_crossentropy\", optimizer = \"adam\")\n",
        "model.summary()"
      ],
      "execution_count": 0,
      "outputs": [
        {
          "output_type": "stream",
          "text": [
            "Model: \"sequential_1\"\n",
            "_________________________________________________________________\n",
            "Layer (type)                 Output Shape              Param #   \n",
            "=================================================================\n",
            "embedding_1 (Embedding)      (None, 9, 256)            902656    \n",
            "_________________________________________________________________\n",
            "lstm (LSTM)                  (None, 256)               525312    \n",
            "_________________________________________________________________\n",
            "repeat_vector (RepeatVector) (None, 5, 256)            0         \n",
            "_________________________________________________________________\n",
            "lstm_1 (LSTM)                (None, 5, 256)            525312    \n",
            "_________________________________________________________________\n",
            "time_distributed (TimeDistri (None, 5, 2214)           568998    \n",
            "=================================================================\n",
            "Total params: 2,522,278\n",
            "Trainable params: 2,522,278\n",
            "Non-trainable params: 0\n",
            "_________________________________________________________________\n"
          ],
          "name": "stdout"
        }
      ]
    },
    {
      "cell_type": "code",
      "metadata": {
        "id": "_tdbm8t7q8hS",
        "colab_type": "code",
        "outputId": "2008cff8-9361-438a-8fdc-517c50eece77",
        "colab": {
          "base_uri": "https://localhost:8080/",
          "height": 644
        }
      },
      "source": [
        "plot_model(model, to_file = \"model.png\", show_shapes = True)"
      ],
      "execution_count": 0,
      "outputs": [
        {
          "output_type": "execute_result",
          "data": {
            "image/png": "[encoded data removed]",
            "text/plain": [
              "<IPython.core.display.Image object>"
            ]
          },
          "metadata": {
            "tags": []
          },
          "execution_count": 48
        }
      ]
    },
    {
      "cell_type": "code",
      "metadata": {
        "id": "ijfdUMyNruth",
        "colab_type": "code",
        "outputId": "9f462688-f7d0-4fba-fb0b-0165d3b82dcd",
        "colab": {
          "base_uri": "https://localhost:8080/",
          "height": 1000
        }
      },
      "source": [
        "model_name = \"model.h5\"\n",
        "model_saves = ModelCheckpoint(model_name, monitor = \"val_loss\",\n",
        "                               verbose = 1, save_best_only = True)\n",
        "model.fit(train_x, train_y_one_h, epochs = 50,\n",
        "          batch_size = 64, validation_data = (test_x, test_y_one_h),\n",
        "          callbacks = [model_saves])"
      ],
      "execution_count": 0,
      "outputs": [
        {
          "output_type": "stream",
          "text": [
            "Epoch 1/50\n",
            "139/141 [============================>.] - ETA: 0s - loss: 4.1473\n",
            "Epoch 00001: val_loss improved from inf to 3.41298, saving model to model.h5\n",
            "141/141 [==============================] - 4s 28ms/step - loss: 4.1389 - val_loss: 3.4130\n",
            "Epoch 2/50\n",
            "139/141 [============================>.] - ETA: 0s - loss: 3.2418\n",
            "Epoch 00002: val_loss improved from 3.41298 to 3.26655, saving model to model.h5\n",
            "141/141 [==============================] - 3s 19ms/step - loss: 3.2409 - val_loss: 3.2665\n",
            "Epoch 3/50\n",
            "139/141 [============================>.] - ETA: 0s - loss: 3.1036\n",
            "Epoch 00003: val_loss improved from 3.26655 to 3.19657, saving model to model.h5\n",
            "141/141 [==============================] - 3s 19ms/step - loss: 3.1038 - val_loss: 3.1966\n",
            "Epoch 4/50\n",
            "141/141 [==============================] - ETA: 0s - loss: 2.9905\n",
            "Epoch 00004: val_loss improved from 3.19657 to 3.09253, saving model to model.h5\n",
            "141/141 [==============================] - 3s 19ms/step - loss: 2.9905 - val_loss: 3.0925\n",
            "Epoch 5/50\n",
            "141/141 [==============================] - ETA: 0s - loss: 2.8299\n",
            "Epoch 00005: val_loss improved from 3.09253 to 2.96405, saving model to model.h5\n",
            "141/141 [==============================] - 3s 20ms/step - loss: 2.8299 - val_loss: 2.9640\n",
            "Epoch 6/50\n",
            "139/141 [============================>.] - ETA: 0s - loss: 2.6821\n",
            "Epoch 00006: val_loss improved from 2.96405 to 2.86806, saving model to model.h5\n",
            "141/141 [==============================] - 3s 20ms/step - loss: 2.6824 - val_loss: 2.8681\n",
            "Epoch 7/50\n",
            "139/141 [============================>.] - ETA: 0s - loss: 2.5315\n",
            "Epoch 00007: val_loss improved from 2.86806 to 2.74644, saving model to model.h5\n",
            "141/141 [==============================] - 3s 20ms/step - loss: 2.5323 - val_loss: 2.7464\n",
            "Epoch 8/50\n",
            "139/141 [============================>.] - ETA: 0s - loss: 2.3860\n",
            "Epoch 00008: val_loss improved from 2.74644 to 2.65613, saving model to model.h5\n",
            "141/141 [==============================] - 3s 19ms/step - loss: 2.3853 - val_loss: 2.6561\n",
            "Epoch 9/50\n",
            "139/141 [============================>.] - ETA: 0s - loss: 2.2389\n",
            "Epoch 00009: val_loss improved from 2.65613 to 2.58035, saving model to model.h5\n",
            "141/141 [==============================] - 3s 19ms/step - loss: 2.2399 - val_loss: 2.5803\n",
            "Epoch 10/50\n",
            "139/141 [============================>.] - ETA: 0s - loss: 2.1155\n",
            "Epoch 00010: val_loss improved from 2.58035 to 2.47312, saving model to model.h5\n",
            "141/141 [==============================] - 3s 19ms/step - loss: 2.1149 - val_loss: 2.4731\n",
            "Epoch 11/50\n",
            "139/141 [============================>.] - ETA: 0s - loss: 1.9731\n",
            "Epoch 00011: val_loss improved from 2.47312 to 2.38197, saving model to model.h5\n",
            "141/141 [==============================] - 3s 19ms/step - loss: 1.9724 - val_loss: 2.3820\n",
            "Epoch 12/50\n",
            "139/141 [============================>.] - ETA: 0s - loss: 1.8436\n",
            "Epoch 00012: val_loss improved from 2.38197 to 2.31878, saving model to model.h5\n",
            "141/141 [==============================] - 3s 19ms/step - loss: 1.8439 - val_loss: 2.3188\n",
            "Epoch 13/50\n",
            "139/141 [============================>.] - ETA: 0s - loss: 1.7291\n",
            "Epoch 00013: val_loss improved from 2.31878 to 2.26145, saving model to model.h5\n",
            "141/141 [==============================] - 3s 20ms/step - loss: 1.7290 - val_loss: 2.2615\n",
            "Epoch 14/50\n",
            "139/141 [============================>.] - ETA: 0s - loss: 1.6164\n",
            "Epoch 00014: val_loss improved from 2.26145 to 2.19806, saving model to model.h5\n",
            "141/141 [==============================] - 3s 19ms/step - loss: 1.6171 - val_loss: 2.1981\n",
            "Epoch 15/50\n",
            "139/141 [============================>.] - ETA: 0s - loss: 1.5061\n",
            "Epoch 00015: val_loss improved from 2.19806 to 2.15137, saving model to model.h5\n",
            "141/141 [==============================] - 3s 19ms/step - loss: 1.5082 - val_loss: 2.1514\n",
            "Epoch 16/50\n",
            "139/141 [============================>.] - ETA: 0s - loss: 1.4064\n",
            "Epoch 00016: val_loss improved from 2.15137 to 2.11118, saving model to model.h5\n",
            "141/141 [==============================] - 3s 19ms/step - loss: 1.4071 - val_loss: 2.1112\n",
            "Epoch 17/50\n",
            "140/141 [============================>.] - ETA: 0s - loss: 1.3092\n",
            "Epoch 00017: val_loss improved from 2.11118 to 2.06511, saving model to model.h5\n",
            "141/141 [==============================] - 3s 19ms/step - loss: 1.3100 - val_loss: 2.0651\n",
            "Epoch 18/50\n",
            "139/141 [============================>.] - ETA: 0s - loss: 1.2195\n",
            "Epoch 00018: val_loss improved from 2.06511 to 2.04010, saving model to model.h5\n",
            "141/141 [==============================] - 3s 19ms/step - loss: 1.2201 - val_loss: 2.0401\n",
            "Epoch 19/50\n",
            "139/141 [============================>.] - ETA: 0s - loss: 1.1368\n",
            "Epoch 00019: val_loss improved from 2.04010 to 2.01352, saving model to model.h5\n",
            "141/141 [==============================] - 3s 19ms/step - loss: 1.1364 - val_loss: 2.0135\n",
            "Epoch 20/50\n",
            "139/141 [============================>.] - ETA: 0s - loss: 1.0559\n",
            "Epoch 00020: val_loss improved from 2.01352 to 1.98304, saving model to model.h5\n",
            "141/141 [==============================] - 3s 19ms/step - loss: 1.0565 - val_loss: 1.9830\n",
            "Epoch 21/50\n",
            "139/141 [============================>.] - ETA: 0s - loss: 0.9793\n",
            "Epoch 00021: val_loss improved from 1.98304 to 1.94944, saving model to model.h5\n",
            "141/141 [==============================] - 3s 20ms/step - loss: 0.9805 - val_loss: 1.9494\n",
            "Epoch 22/50\n",
            "139/141 [============================>.] - ETA: 0s - loss: 0.8980\n",
            "Epoch 00022: val_loss improved from 1.94944 to 1.94159, saving model to model.h5\n",
            "141/141 [==============================] - 3s 19ms/step - loss: 0.9003 - val_loss: 1.9416\n",
            "Epoch 23/50\n",
            "139/141 [============================>.] - ETA: 0s - loss: 0.8338\n",
            "Epoch 00023: val_loss improved from 1.94159 to 1.92547, saving model to model.h5\n",
            "141/141 [==============================] - 3s 19ms/step - loss: 0.8340 - val_loss: 1.9255\n",
            "Epoch 24/50\n",
            "141/141 [==============================] - ETA: 0s - loss: 0.7691\n",
            "Epoch 00024: val_loss improved from 1.92547 to 1.89920, saving model to model.h5\n",
            "141/141 [==============================] - 3s 19ms/step - loss: 0.7691 - val_loss: 1.8992\n",
            "Epoch 25/50\n",
            "139/141 [============================>.] - ETA: 0s - loss: 0.7071\n",
            "Epoch 00025: val_loss improved from 1.89920 to 1.89756, saving model to model.h5\n",
            "141/141 [==============================] - 3s 19ms/step - loss: 0.7069 - val_loss: 1.8976\n",
            "Epoch 26/50\n",
            "139/141 [============================>.] - ETA: 0s - loss: 0.6472\n",
            "Epoch 00026: val_loss improved from 1.89756 to 1.87739, saving model to model.h5\n",
            "141/141 [==============================] - 3s 19ms/step - loss: 0.6479 - val_loss: 1.8774\n",
            "Epoch 27/50\n",
            "139/141 [============================>.] - ETA: 0s - loss: 0.5955\n",
            "Epoch 00027: val_loss improved from 1.87739 to 1.86918, saving model to model.h5\n",
            "141/141 [==============================] - 3s 19ms/step - loss: 0.5950 - val_loss: 1.8692\n",
            "Epoch 28/50\n",
            "141/141 [==============================] - ETA: 0s - loss: 0.5458\n",
            "Epoch 00028: val_loss improved from 1.86918 to 1.86664, saving model to model.h5\n",
            "141/141 [==============================] - 3s 19ms/step - loss: 0.5458 - val_loss: 1.8666\n",
            "Epoch 29/50\n",
            "139/141 [============================>.] - ETA: 0s - loss: 0.5038\n",
            "Epoch 00029: val_loss did not improve from 1.86664\n",
            "141/141 [==============================] - 3s 19ms/step - loss: 0.5045 - val_loss: 1.8749\n",
            "Epoch 30/50\n",
            "139/141 [============================>.] - ETA: 0s - loss: 0.4608\n",
            "Epoch 00030: val_loss did not improve from 1.86664\n",
            "141/141 [==============================] - 3s 19ms/step - loss: 0.4615 - val_loss: 1.8768\n",
            "Epoch 31/50\n",
            "140/141 [============================>.] - ETA: 0s - loss: 0.4207\n",
            "Epoch 00031: val_loss did not improve from 1.86664\n",
            "141/141 [==============================] - 3s 19ms/step - loss: 0.4212 - val_loss: 1.8804\n",
            "Epoch 32/50\n",
            "139/141 [============================>.] - ETA: 0s - loss: 0.3874\n",
            "Epoch 00032: val_loss did not improve from 1.86664\n",
            "141/141 [==============================] - 3s 19ms/step - loss: 0.3879 - val_loss: 1.8694\n",
            "Epoch 33/50\n",
            "139/141 [============================>.] - ETA: 0s - loss: 0.3583\n",
            "Epoch 00033: val_loss did not improve from 1.86664\n",
            "141/141 [==============================] - 3s 19ms/step - loss: 0.3579 - val_loss: 1.8671\n",
            "Epoch 34/50\n",
            "139/141 [============================>.] - ETA: 0s - loss: 0.3300\n",
            "Epoch 00034: val_loss did not improve from 1.86664\n",
            "141/141 [==============================] - 3s 19ms/step - loss: 0.3305 - val_loss: 1.8694\n",
            "Epoch 35/50\n",
            "140/141 [============================>.] - ETA: 0s - loss: 0.3069\n",
            "Epoch 00035: val_loss did not improve from 1.86664\n",
            "141/141 [==============================] - 3s 19ms/step - loss: 0.3069 - val_loss: 1.8668\n",
            "Epoch 36/50\n",
            "139/141 [============================>.] - ETA: 0s - loss: 0.2796\n",
            "Epoch 00036: val_loss did not improve from 1.86664\n",
            "141/141 [==============================] - 3s 18ms/step - loss: 0.2804 - val_loss: 1.8732\n",
            "Epoch 37/50\n",
            "141/141 [==============================] - ETA: 0s - loss: 0.2592\n",
            "Epoch 00037: val_loss did not improve from 1.86664\n",
            "141/141 [==============================] - 3s 19ms/step - loss: 0.2592 - val_loss: 1.8820\n",
            "Epoch 38/50\n",
            "140/141 [============================>.] - ETA: 0s - loss: 0.2422\n",
            "Epoch 00038: val_loss did not improve from 1.86664\n",
            "141/141 [==============================] - 3s 18ms/step - loss: 0.2424 - val_loss: 1.8940\n",
            "Epoch 39/50\n",
            "139/141 [============================>.] - ETA: 0s - loss: 0.2261\n",
            "Epoch 00039: val_loss did not improve from 1.86664\n",
            "141/141 [==============================] - 3s 19ms/step - loss: 0.2262 - val_loss: 1.8874\n",
            "Epoch 40/50\n",
            "139/141 [============================>.] - ETA: 0s - loss: 0.2111\n",
            "Epoch 00040: val_loss did not improve from 1.86664\n",
            "141/141 [==============================] - 3s 18ms/step - loss: 0.2120 - val_loss: 1.8980\n",
            "Epoch 41/50\n",
            "139/141 [============================>.] - ETA: 0s - loss: 0.1991\n",
            "Epoch 00041: val_loss did not improve from 1.86664\n",
            "141/141 [==============================] - 3s 19ms/step - loss: 0.1990 - val_loss: 1.8980\n",
            "Epoch 42/50\n",
            "139/141 [============================>.] - ETA: 0s - loss: 0.1857\n",
            "Epoch 00042: val_loss did not improve from 1.86664\n",
            "141/141 [==============================] - 3s 19ms/step - loss: 0.1860 - val_loss: 1.9134\n",
            "Epoch 43/50\n",
            "141/141 [==============================] - ETA: 0s - loss: 0.1771\n",
            "Epoch 00043: val_loss did not improve from 1.86664\n",
            "141/141 [==============================] - 3s 18ms/step - loss: 0.1771 - val_loss: 1.9095\n",
            "Epoch 44/50\n",
            "139/141 [============================>.] - ETA: 0s - loss: 0.1674\n",
            "Epoch 00044: val_loss did not improve from 1.86664\n",
            "141/141 [==============================] - 3s 19ms/step - loss: 0.1674 - val_loss: 1.9224\n",
            "Epoch 45/50\n",
            "139/141 [============================>.] - ETA: 0s - loss: 0.1598\n",
            "Epoch 00045: val_loss did not improve from 1.86664\n",
            "141/141 [==============================] - 3s 19ms/step - loss: 0.1597 - val_loss: 1.9124\n",
            "Epoch 46/50\n",
            "140/141 [============================>.] - ETA: 0s - loss: 0.1508\n",
            "Epoch 00046: val_loss did not improve from 1.86664\n",
            "141/141 [==============================] - 3s 18ms/step - loss: 0.1510 - val_loss: 1.9365\n",
            "Epoch 47/50\n",
            "141/141 [==============================] - ETA: 0s - loss: 0.1468\n",
            "Epoch 00047: val_loss did not improve from 1.86664\n",
            "141/141 [==============================] - 3s 19ms/step - loss: 0.1468 - val_loss: 1.9317\n",
            "Epoch 48/50\n",
            "140/141 [============================>.] - ETA: 0s - loss: 0.1394\n",
            "Epoch 00048: val_loss did not improve from 1.86664\n",
            "141/141 [==============================] - 3s 18ms/step - loss: 0.1392 - val_loss: 1.9527\n",
            "Epoch 49/50\n",
            "141/141 [==============================] - ETA: 0s - loss: 0.1336\n",
            "Epoch 00049: val_loss did not improve from 1.86664\n",
            "141/141 [==============================] - 3s 19ms/step - loss: 0.1336 - val_loss: 1.9442\n",
            "Epoch 50/50\n",
            "140/141 [============================>.] - ETA: 0s - loss: 0.1308\n",
            "Epoch 00050: val_loss did not improve from 1.86664\n",
            "141/141 [==============================] - 3s 18ms/step - loss: 0.1307 - val_loss: 1.9507\n"
          ],
          "name": "stdout"
        },
        {
          "output_type": "execute_result",
          "data": {
            "text/plain": [
              "<tensorflow.python.keras.callbacks.History at 0x7f3ac82d63c8>"
            ]
          },
          "metadata": {
            "tags": []
          },
          "execution_count": 49
        }
      ]
    },
    {
      "cell_type": "code",
      "metadata": {
        "id": "7-7ai0F1ssX_",
        "colab_type": "code",
        "outputId": "73403d42-a978-4e4f-dcb3-03ae27d11708",
        "colab": {
          "base_uri": "https://localhost:8080/",
          "height": 283
        }
      },
      "source": [
        "loss = pd.DataFrame(model.history.history)\n",
        "loss.plot()"
      ],
      "execution_count": 0,
      "outputs": [
        {
          "output_type": "execute_result",
          "data": {
            "text/plain": [
              "<matplotlib.axes._subplots.AxesSubplot at 0x7f3ac432da90>"
            ]
          },
          "metadata": {
            "tags": []
          },
          "execution_count": 50
        },
        {
          "output_type": "display_data",
          "data": {
            "image/png": "[encoded data removed]",
            "text/plain": [
              "<Figure size 432x288 with 1 Axes>"
            ]
          },
          "metadata": {
            "tags": [],
            "needs_background": "light"
          }
        }
      ]
    },
    {
      "cell_type": "code",
      "metadata": {
        "id": "LQb8xAkYunjo",
        "colab_type": "code",
        "outputId": "db64a59a-2d54-43ae-e0db-531348e532d9",
        "colab": {
          "base_uri": "https://localhost:8080/",
          "height": 217
        }
      },
      "source": [
        "translation = model.predict(train_x, verbose = 0)[0] # for one sample\n",
        "print(translation)\n",
        "translation.shape"
      ],
      "execution_count": 0,
      "outputs": [
        {
          "output_type": "stream",
          "text": [
            "[[3.51494382e-05 2.11752340e-04 1.86912492e-02 ... 3.34539840e-09\n",
            "  1.98537853e-09 1.91295779e-09]\n",
            " [9.41113249e-05 5.34593312e-08 1.04369654e-07 ... 6.42742526e-09\n",
            "  3.83912591e-09 4.54799265e-09]\n",
            " [1.37529492e-01 1.69800956e-07 2.62776751e-07 ... 5.72029535e-10\n",
            "  4.76929607e-10 5.32927869e-10]\n",
            " [9.82065976e-01 2.23451355e-08 6.29964658e-09 ... 1.12088091e-11\n",
            "  6.77040628e-12 9.27482830e-12]\n",
            " [9.99955177e-01 1.42532097e-09 2.22852889e-10 ... 2.04236706e-13\n",
            "  1.18797577e-13 1.50177641e-13]]\n"
          ],
          "name": "stdout"
        },
        {
          "output_type": "execute_result",
          "data": {
            "text/plain": [
              "(5, 2214)"
            ]
          },
          "metadata": {
            "tags": []
          },
          "execution_count": 51
        }
      ]
    },
    {
      "cell_type": "code",
      "metadata": {
        "id": "ho4ZTvxqwqfQ",
        "colab_type": "code",
        "colab": {}
      },
      "source": [
        "def idx_to_word(integer, tokenizer):\n",
        "    for word, index in tokenizer.word_index.items():\n",
        "        if integer == index:\n",
        "            return word\n",
        "    return None"
      ],
      "execution_count": 0,
      "outputs": []
    },
    {
      "cell_type": "code",
      "metadata": {
        "id": "LHhjRFIhyC4G",
        "colab_type": "code",
        "colab": {}
      },
      "source": [
        "def predict_sequence(model, tokenizer, sample):\n",
        "\tsample = sample.reshape(1, sample.shape[0])\n",
        "\tprediction = model.predict(sample, verbose=0)[0]\n",
        "\tintegers = [np.argmax(vector) for vector in prediction]\n",
        "\ttarget = list()\n",
        "\tfor i in integers:\n",
        "\t\tword = idx_to_word(i, tokenizer)\n",
        "\t\tif word is None:\n",
        "\t\t\tbreak\n",
        "\t\ttarget.append(word)\n",
        "\treturn ' '.join(target)"
      ],
      "execution_count": 0,
      "outputs": []
    },
    {
      "cell_type": "code",
      "metadata": {
        "id": "h1JRzHFEzNBe",
        "colab_type": "code",
        "colab": {}
      },
      "source": [
        "from nltk.translate.bleu_score import corpus_bleu"
      ],
      "execution_count": 0,
      "outputs": []
    },
    {
      "cell_type": "code",
      "metadata": {
        "id": "A7EMWr8pwciF",
        "colab_type": "code",
        "colab": {}
      },
      "source": [
        "# putting the above in a function:\n",
        "def evaluate_model(model, tokenizer, raw_data, source_data):\n",
        "\n",
        "    actual, predicted = [], []\n",
        "    # get translation for each sample\n",
        "    for i, sample in enumerate(source_data):\n",
        "        translation = predict_sequence(model, tokenizer, sample)\n",
        "        # get corresponding source and true translation:\n",
        "        raw_target, raw_source = raw_data[i, :2]\n",
        "        # print few of the predictions:\n",
        "        if i < 15:\n",
        "            print(\"source = [{}], target = [{}], pred = [{}]\".format(raw_source, raw_target, translation))\n",
        "        \n",
        "        # store original translation and pred translation for scoring\n",
        "        actual.append([raw_target.split()])\n",
        "        predicted.append(translation.split())\n",
        "        \n",
        "\n",
        "\n",
        "    # cal bleu score:\n",
        "    print('BLEU-1: %f' % corpus_bleu(actual, predicted, weights=(1.0, 0, 0, 0)))\n",
        "    print('BLEU-2: %f' % corpus_bleu(actual, predicted, weights=(0.5, 0.5, 0, 0)))\n",
        "    print('BLEU-3: %f' % corpus_bleu(actual, predicted, weights=(0.3, 0.3, 0.3, 0)))\n",
        "    print('BLEU-4: %f' % corpus_bleu(actual, predicted, weights=(0.25, 0.25, 0.25, 0.25)))\n"
      ],
      "execution_count": 0,
      "outputs": []
    },
    {
      "cell_type": "code",
      "metadata": {
        "id": "O_zdxEIP0o4v",
        "colab_type": "code",
        "outputId": "817b422f-09fe-4ec0-83b8-bc4b4271a9e3",
        "colab": {
          "base_uri": "https://localhost:8080/",
          "height": 765
        }
      },
      "source": [
        "# now evaluate model \n",
        "\n",
        "# on training samples:\n",
        "print(\"training predictions\")\n",
        "evaluate_model(model, eng_tokenizer, train_data, train_x)\n",
        "\n",
        "# on testing samples:\n",
        "print(\"test\")\n",
        "evaluate_model(model, eng_tokenizer, test_data, test_x)\n"
      ],
      "execution_count": 0,
      "outputs": [
        {
          "output_type": "stream",
          "text": [
            "training predictions\n",
            "source = [ich bin wieder zuhause], target = [im back home], pred = [im back home]\n",
            "source = [zum wohl], target = [cheers], pred = [cheers]\n",
            "source = [er scheint mude zu sein], target = [he seems tired], pred = [he seems tired]\n",
            "source = [schneide es in zwei halften], target = [cut it in half], pred = [cut it in half]\n",
            "source = [jetzt schuldest du mir etwas], target = [now you owe me], pred = [now you owe me]\n",
            "source = [wer will es], target = [who wants it], pred = [who wants it]\n",
            "source = [kennen wir dich], target = [do we know you], pred = [do we know you]\n",
            "source = [er war bekifft], target = [he was stoned], pred = [he was stoned]\n",
            "source = [tom baut reis an], target = [tom grows rice], pred = [tom grows rice]\n",
            "source = [leg ihm handschellen an], target = [cuff him], pred = [cuff him]\n",
            "source = [das tut weh], target = [that hurts], pred = [that hurts]\n",
            "source = [besser], target = [thats better], pred = [thats better]\n",
            "source = [tom ist zuruckgetreten], target = [toms resigned], pred = [tom resigned]\n",
            "source = [ihr seid verargert], target = [youre upset], pred = [youre upset]\n",
            "source = [ist tom allein], target = [is tom alone], pred = [is tom alone]\n",
            "BLEU-1: 0.947036\n",
            "BLEU-2: 0.930427\n",
            "BLEU-3: 0.848349\n",
            "BLEU-4: 0.515703\n",
            "test\n",
            "source = [wir respektieren sie], target = [we respect her], pred = [we knew]\n",
            "source = [probieren sie es nicht langer], target = [stop trying], pred = [stop trying]\n",
            "source = [es ist ein geheimnis], target = [its a secret], pred = [its a secret]\n",
            "source = [du siehst mude aus], target = [you look tired], pred = [you look good]\n",
            "source = [sie kocht gut], target = [she cooks well], pred = [you be good]\n",
            "source = [warum darf ich nicht gehen], target = [why cant i go], pred = [why i i go]\n",
            "source = [tom wird zustimmen], target = [tom will agree], pred = [tom will]\n",
            "source = [sie erholten sich], target = [they relaxed], pred = [she bent]\n",
            "source = [tom hat abgelehnt], target = [tom refused], pred = [tom has wrong]\n",
            "source = [tom achzte], target = [tom groaned], pred = [tom moaned]\n",
            "source = [sie haben recht], target = [they are right], pred = [youre correct]\n",
            "source = [tom wird heulen], target = [tomll cry], pred = [tom will]\n",
            "source = [ich habe eine erkaltung], target = [i have a cold], pred = [i have a cold]\n",
            "source = [ich zeigs euch], target = [ill show you], pred = [ill show you]\n",
            "source = [lass ihn kommen], target = [have him come], pred = [let me come]\n",
            "BLEU-1: 0.562103\n",
            "BLEU-2: 0.444339\n",
            "BLEU-3: 0.362507\n",
            "BLEU-4: 0.156683\n"
          ],
          "name": "stdout"
        }
      ]
    },
    {
      "cell_type": "code",
      "metadata": {
        "id": "3Sk3wrLg1ilA",
        "colab_type": "code",
        "colab": {}
      },
      "source": [
        ""
      ],
      "execution_count": 0,
      "outputs": []
    }
  ]
}